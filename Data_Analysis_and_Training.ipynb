{
  "nbformat": 4,
  "nbformat_minor": 0,
  "metadata": {
    "colab": {
      "name": "Final1.ipynb",
      "provenance": [],
      "collapsed_sections": [
        "3d593a33",
        "cJupuMjziolJ",
        "Q9VCfjNc_hvT",
        "bZCq1C8h9Avz",
        "HPk3bMQ9DHn6"
      ]
    },
    "kernelspec": {
      "display_name": "Python 3",
      "language": "python",
      "name": "python3"
    },
    "language_info": {
      "codemirror_mode": {
        "name": "ipython",
        "version": 3
      },
      "file_extension": ".py",
      "mimetype": "text/x-python",
      "name": "python",
      "nbconvert_exporter": "python",
      "pygments_lexer": "ipython3",
      "version": "3.8.8"
    }
  },
  "cells": [
    {
      "cell_type": "markdown",
      "metadata": {
        "id": "a5fefe20"
      },
      "source": [
        "### 1) Team ID: 09,      Sem: 5th,      Div : E,      Department : Computer Science\n",
        "\n",
        "### 2) Title ID : 5DMACP08,      Project Title : Weather Shift Prediction\n",
        "\n",
        "\n",
        "### 3) Problem Statement : Predict the temperature at a particular latitude/longitude and time along with uncertainty, given all available measurements and climate model predictions.\n",
        "\n",
        "\n",
        "###      - Team Members:\n",
        "- Shreehari T Alagawadi, 01fe19bcs279, 512\n",
        "- Bhuvan M C, 01fe19bcs279, 509\n",
        "- Prajwal Meti, 01fe19bcs276,510\n",
        "- Sankalp Pattanashetti, 01fe19bcs277, 511\n",
        "\n"
      ]
    },
    {
      "cell_type": "markdown",
      "metadata": {
        "id": "3d593a33"
      },
      "source": [
        "# 1) Data Loading\n",
        "\n",
        "All data is provided as csv files.\n",
        "\n",
        "- train.csv\n",
        "- dev_in.csv\n",
        "- dev_out.csv\n",
        "\n",
        "dev_in consists of data in-domain with train in terms of time and climate. dev_out consists of data shifted in time and climates with respect to train."
      ]
    },
    {
      "cell_type": "code",
      "metadata": {
        "id": "qZ7yaeB0tKH6"
      },
      "source": [
        "# Add to path\n",
        "import sys\n",
        "sys.path.append('/content/drive/MyDrive/Colab Notebooks')"
      ],
      "execution_count": null,
      "outputs": []
    },
    {
      "cell_type": "code",
      "metadata": {
        "colab": {
          "base_uri": "https://localhost:8080/"
        },
        "id": "POP2swc0tM5g",
        "outputId": "2d5d8ac4-ac17-4891-9da2-8eec57a594ac"
      },
      "source": [
        "from google.colab import drive\n",
        "drive.mount('/content/drive')"
      ],
      "execution_count": 3,
      "outputs": [
        {
          "output_type": "stream",
          "name": "stdout",
          "text": [
            "Mounted at /content/drive\n"
          ]
        }
      ]
    },
    {
      "cell_type": "code",
      "metadata": {
        "colab": {
          "base_uri": "https://localhost:8080/",
          "height": 307
        },
        "id": "h2vZWtXOqRkF",
        "outputId": "103a204b-77a0-4fda-9067-3494b26e3e4e"
      },
      "source": [
        "import pandas as pd\n",
        "\n",
        "# Load each data file as a pandas data frame\n",
        "\n",
        "train = pd.read_csv('/content/drive/MyDrive/database/df_train3.csv')\n",
        "train.head()"
      ],
      "execution_count": null,
      "outputs": [
        {
          "data": {
            "text/html": [
              "<div>\n",
              "<style scoped>\n",
              "    .dataframe tbody tr th:only-of-type {\n",
              "        vertical-align: middle;\n",
              "    }\n",
              "\n",
              "    .dataframe tbody tr th {\n",
              "        vertical-align: top;\n",
              "    }\n",
              "\n",
              "    .dataframe thead th {\n",
              "        text-align: right;\n",
              "    }\n",
              "</style>\n",
              "<table border=\"1\" class=\"dataframe\">\n",
              "  <thead>\n",
              "    <tr style=\"text-align: right;\">\n",
              "      <th></th>\n",
              "      <th>fact_time</th>\n",
              "      <th>fact_latitude</th>\n",
              "      <th>fact_longitude</th>\n",
              "      <th>fact_temperature</th>\n",
              "      <th>fact_cwsm_class</th>\n",
              "      <th>climate</th>\n",
              "      <th>topography_bathymetry</th>\n",
              "      <th>sun_elevation</th>\n",
              "      <th>climate_temperature</th>\n",
              "      <th>climate_pressure</th>\n",
              "      <th>cmc_0_0_0_1000</th>\n",
              "      <th>cmc_0_0_0_2_grad</th>\n",
              "      <th>cmc_0_0_0_2_interpolated</th>\n",
              "      <th>cmc_0_0_0_2_next</th>\n",
              "      <th>cmc_0_0_0_2</th>\n",
              "      <th>cmc_0_0_0_500</th>\n",
              "      <th>cmc_0_0_0_700</th>\n",
              "      <th>cmc_0_0_0_850</th>\n",
              "      <th>cmc_0_0_0_925</th>\n",
              "      <th>cmc_0_0_6_2</th>\n",
              "      <th>cmc_0_0_7_1000</th>\n",
              "      <th>cmc_0_0_7_2</th>\n",
              "      <th>cmc_0_0_7_500</th>\n",
              "      <th>cmc_0_0_7_700</th>\n",
              "      <th>cmc_0_0_7_850</th>\n",
              "      <th>cmc_0_0_7_925</th>\n",
              "      <th>cmc_0_1_0_0</th>\n",
              "      <th>cmc_0_1_11_0</th>\n",
              "      <th>cmc_0_1_65_0</th>\n",
              "      <th>cmc_0_1_66_0</th>\n",
              "      <th>cmc_0_1_67_0</th>\n",
              "      <th>cmc_0_1_68_0</th>\n",
              "      <th>cmc_0_1_7_0</th>\n",
              "      <th>cmc_0_2_2_10</th>\n",
              "      <th>cmc_0_2_2_1000</th>\n",
              "      <th>cmc_0_2_2_500</th>\n",
              "      <th>cmc_0_2_2_700</th>\n",
              "      <th>cmc_0_2_2_850</th>\n",
              "      <th>cmc_0_2_2_925</th>\n",
              "      <th>cmc_0_2_3_10</th>\n",
              "      <th>...</th>\n",
              "      <th>gfs_temperature_80000</th>\n",
              "      <th>gfs_temperature_85000</th>\n",
              "      <th>gfs_temperature_90000</th>\n",
              "      <th>gfs_temperature_92500</th>\n",
              "      <th>gfs_temperature_95000</th>\n",
              "      <th>gfs_temperature_97500</th>\n",
              "      <th>gfs_temperature_sea</th>\n",
              "      <th>gfs_temperature_sea_grad</th>\n",
              "      <th>gfs_temperature_sea_interpolated</th>\n",
              "      <th>gfs_temperature_sea_next</th>\n",
              "      <th>gfs_timedelta_s</th>\n",
              "      <th>gfs_total_clouds_cover_high</th>\n",
              "      <th>gfs_total_clouds_cover_low</th>\n",
              "      <th>gfs_total_clouds_cover_middle</th>\n",
              "      <th>gfs_u_wind</th>\n",
              "      <th>gfs_v_wind</th>\n",
              "      <th>gfs_wind_speed</th>\n",
              "      <th>wrf_t2</th>\n",
              "      <th>wrf_t2_next</th>\n",
              "      <th>wrf_psfc</th>\n",
              "      <th>wrf_rh2</th>\n",
              "      <th>wrf_wind_u</th>\n",
              "      <th>wrf_wind_v</th>\n",
              "      <th>wrf_rain</th>\n",
              "      <th>wrf_snow</th>\n",
              "      <th>wrf_graupel</th>\n",
              "      <th>wrf_t2_interpolated</th>\n",
              "      <th>wrf_t2_grad</th>\n",
              "      <th>cmc_0_1_65_0_grad</th>\n",
              "      <th>cmc_0_1_65_0_next</th>\n",
              "      <th>cmc_0_1_66_0_grad</th>\n",
              "      <th>cmc_0_1_66_0_next</th>\n",
              "      <th>cmc_0_1_67_0_grad</th>\n",
              "      <th>cmc_0_1_67_0_next</th>\n",
              "      <th>cmc_0_1_68_0_grad</th>\n",
              "      <th>cmc_0_1_68_0_next</th>\n",
              "      <th>gfs_2m_dewpoint_grad</th>\n",
              "      <th>gfs_2m_dewpoint_next</th>\n",
              "      <th>gfs_total_clouds_cover_low_grad</th>\n",
              "      <th>gfs_total_clouds_cover_low_next</th>\n",
              "    </tr>\n",
              "  </thead>\n",
              "  <tbody>\n",
              "    <tr>\n",
              "      <th>0</th>\n",
              "      <td>1.543321e+09</td>\n",
              "      <td>26.968800</td>\n",
              "      <td>-99.248901</td>\n",
              "      <td>2.0</td>\n",
              "      <td>0.0</td>\n",
              "      <td>dry</td>\n",
              "      <td>127.0</td>\n",
              "      <td>-17.526443</td>\n",
              "      <td>287.763571</td>\n",
              "      <td>754.263405</td>\n",
              "      <td>282.702881</td>\n",
              "      <td>6.684790</td>\n",
              "      <td>276.300439</td>\n",
              "      <td>282.985229</td>\n",
              "      <td>276.300439</td>\n",
              "      <td>262.333789</td>\n",
              "      <td>276.962134</td>\n",
              "      <td>280.083057</td>\n",
              "      <td>281.141064</td>\n",
              "      <td>272.500946</td>\n",
              "      <td>14.250</td>\n",
              "      <td>3.750</td>\n",
              "      <td>29.905515</td>\n",
              "      <td>15.500</td>\n",
              "      <td>29.750</td>\n",
              "      <td>15.750</td>\n",
              "      <td>0.0034</td>\n",
              "      <td>0.0</td>\n",
              "      <td>0.00000</td>\n",
              "      <td>0.0</td>\n",
              "      <td>0.0</td>\n",
              "      <td>0.0</td>\n",
              "      <td>0.00000</td>\n",
              "      <td>-1.327548</td>\n",
              "      <td>-2.914091</td>\n",
              "      <td>18.357608</td>\n",
              "      <td>8.480661</td>\n",
              "      <td>-1.510544</td>\n",
              "      <td>-0.465033</td>\n",
              "      <td>-0.126199</td>\n",
              "      <td>...</td>\n",
              "      <td>280.064667</td>\n",
              "      <td>280.664642</td>\n",
              "      <td>280.495331</td>\n",
              "      <td>281.076080</td>\n",
              "      <td>281.991516</td>\n",
              "      <td>282.500854</td>\n",
              "      <td>282.227112</td>\n",
              "      <td>275.116156</td>\n",
              "      <td>282.227112</td>\n",
              "      <td>284.193268</td>\n",
              "      <td>0.0</td>\n",
              "      <td>0.0</td>\n",
              "      <td>0.0</td>\n",
              "      <td>0.0</td>\n",
              "      <td>-2.328149</td>\n",
              "      <td>0.509014</td>\n",
              "      <td>2.383144</td>\n",
              "      <td>280.888000</td>\n",
              "      <td>280.420593</td>\n",
              "      <td>100927.414062</td>\n",
              "      <td>0.623658</td>\n",
              "      <td>-2.533346</td>\n",
              "      <td>-3.091468</td>\n",
              "      <td>0.0</td>\n",
              "      <td>0.0</td>\n",
              "      <td>0.0</td>\n",
              "      <td>280.888000</td>\n",
              "      <td>-0.467407</td>\n",
              "      <td>0.000000</td>\n",
              "      <td>0.000000</td>\n",
              "      <td>0.0</td>\n",
              "      <td>0.0</td>\n",
              "      <td>0.0</td>\n",
              "      <td>0.0</td>\n",
              "      <td>0.0</td>\n",
              "      <td>0.0</td>\n",
              "      <td>270.549994</td>\n",
              "      <td>270.399994</td>\n",
              "      <td>0.0</td>\n",
              "      <td>0.0</td>\n",
              "    </tr>\n",
              "    <tr>\n",
              "      <th>1</th>\n",
              "      <td>1.538776e+09</td>\n",
              "      <td>29.374201</td>\n",
              "      <td>-100.927002</td>\n",
              "      <td>31.0</td>\n",
              "      <td>20.0</td>\n",
              "      <td>mild temperate</td>\n",
              "      <td>297.0</td>\n",
              "      <td>41.531032</td>\n",
              "      <td>300.142143</td>\n",
              "      <td>733.117168</td>\n",
              "      <td>305.860669</td>\n",
              "      <td>-1.361548</td>\n",
              "      <td>303.629541</td>\n",
              "      <td>302.267993</td>\n",
              "      <td>303.629541</td>\n",
              "      <td>267.178882</td>\n",
              "      <td>286.211719</td>\n",
              "      <td>291.642969</td>\n",
              "      <td>298.615479</td>\n",
              "      <td>293.701019</td>\n",
              "      <td>11.500</td>\n",
              "      <td>9.875</td>\n",
              "      <td>22.468424</td>\n",
              "      <td>26.500</td>\n",
              "      <td>1.375</td>\n",
              "      <td>6.250</td>\n",
              "      <td>0.0172</td>\n",
              "      <td>0.0</td>\n",
              "      <td>5.67340</td>\n",
              "      <td>0.0</td>\n",
              "      <td>0.0</td>\n",
              "      <td>0.0</td>\n",
              "      <td>0.00000</td>\n",
              "      <td>-3.568011</td>\n",
              "      <td>-3.632005</td>\n",
              "      <td>4.370947</td>\n",
              "      <td>0.653320</td>\n",
              "      <td>-3.227249</td>\n",
              "      <td>-4.499048</td>\n",
              "      <td>7.287793</td>\n",
              "      <td>...</td>\n",
              "      <td>289.700012</td>\n",
              "      <td>293.000000</td>\n",
              "      <td>297.849792</td>\n",
              "      <td>300.200012</td>\n",
              "      <td>302.676605</td>\n",
              "      <td>305.100006</td>\n",
              "      <td>305.981812</td>\n",
              "      <td>270.892554</td>\n",
              "      <td>305.981812</td>\n",
              "      <td>303.724365</td>\n",
              "      <td>0.0</td>\n",
              "      <td>0.0</td>\n",
              "      <td>23.0</td>\n",
              "      <td>0.0</td>\n",
              "      <td>-3.851841</td>\n",
              "      <td>7.031523</td>\n",
              "      <td>8.017418</td>\n",
              "      <td>302.893005</td>\n",
              "      <td>303.356781</td>\n",
              "      <td>97645.507812</td>\n",
              "      <td>0.651412</td>\n",
              "      <td>-3.482976</td>\n",
              "      <td>5.238701</td>\n",
              "      <td>0.0</td>\n",
              "      <td>0.0</td>\n",
              "      <td>0.0</td>\n",
              "      <td>302.893005</td>\n",
              "      <td>0.463776</td>\n",
              "      <td>0.000000</td>\n",
              "      <td>5.673400</td>\n",
              "      <td>0.0</td>\n",
              "      <td>0.0</td>\n",
              "      <td>0.0</td>\n",
              "      <td>0.0</td>\n",
              "      <td>0.0</td>\n",
              "      <td>0.0</td>\n",
              "      <td>272.549994</td>\n",
              "      <td>291.100006</td>\n",
              "      <td>-12.0</td>\n",
              "      <td>11.0</td>\n",
              "    </tr>\n",
              "    <tr>\n",
              "      <th>2</th>\n",
              "      <td>1.552115e+09</td>\n",
              "      <td>22.149599</td>\n",
              "      <td>113.592003</td>\n",
              "      <td>17.0</td>\n",
              "      <td>10.0</td>\n",
              "      <td>mild temperate</td>\n",
              "      <td>-1.0</td>\n",
              "      <td>43.916531</td>\n",
              "      <td>291.992143</td>\n",
              "      <td>761.571076</td>\n",
              "      <td>294.469702</td>\n",
              "      <td>0.282837</td>\n",
              "      <td>295.153361</td>\n",
              "      <td>295.341919</td>\n",
              "      <td>295.059082</td>\n",
              "      <td>268.584375</td>\n",
              "      <td>280.319653</td>\n",
              "      <td>288.922583</td>\n",
              "      <td>292.259375</td>\n",
              "      <td>293.914505</td>\n",
              "      <td>0.750</td>\n",
              "      <td>1.000</td>\n",
              "      <td>25.403430</td>\n",
              "      <td>1.625</td>\n",
              "      <td>2.375</td>\n",
              "      <td>0.125</td>\n",
              "      <td>0.0161</td>\n",
              "      <td>0.0</td>\n",
              "      <td>82.66500</td>\n",
              "      <td>0.0</td>\n",
              "      <td>0.0</td>\n",
              "      <td>0.0</td>\n",
              "      <td>0.00003</td>\n",
              "      <td>0.674461</td>\n",
              "      <td>0.812148</td>\n",
              "      <td>28.046518</td>\n",
              "      <td>20.135425</td>\n",
              "      <td>11.603281</td>\n",
              "      <td>5.047708</td>\n",
              "      <td>1.483844</td>\n",
              "      <td>...</td>\n",
              "      <td>287.600006</td>\n",
              "      <td>289.332031</td>\n",
              "      <td>290.475555</td>\n",
              "      <td>291.842010</td>\n",
              "      <td>293.402496</td>\n",
              "      <td>295.018280</td>\n",
              "      <td>296.251434</td>\n",
              "      <td>273.437476</td>\n",
              "      <td>296.347260</td>\n",
              "      <td>296.538910</td>\n",
              "      <td>3600.0</td>\n",
              "      <td>0.0</td>\n",
              "      <td>7.0</td>\n",
              "      <td>0.0</td>\n",
              "      <td>1.512065</td>\n",
              "      <td>4.074417</td>\n",
              "      <td>4.345942</td>\n",
              "      <td>295.782043</td>\n",
              "      <td>295.726929</td>\n",
              "      <td>100751.773438</td>\n",
              "      <td>0.989764</td>\n",
              "      <td>3.433286</td>\n",
              "      <td>5.181113</td>\n",
              "      <td>0.0</td>\n",
              "      <td>0.0</td>\n",
              "      <td>0.0</td>\n",
              "      <td>295.782043</td>\n",
              "      <td>-0.055115</td>\n",
              "      <td>0.771400</td>\n",
              "      <td>83.436400</td>\n",
              "      <td>0.0</td>\n",
              "      <td>0.0</td>\n",
              "      <td>0.0</td>\n",
              "      <td>0.0</td>\n",
              "      <td>0.0</td>\n",
              "      <td>0.0</td>\n",
              "      <td>272.916022</td>\n",
              "      <td>294.600006</td>\n",
              "      <td>1.0</td>\n",
              "      <td>8.0</td>\n",
              "    </tr>\n",
              "    <tr>\n",
              "      <th>3</th>\n",
              "      <td>1.549566e+09</td>\n",
              "      <td>34.678699</td>\n",
              "      <td>-86.684799</td>\n",
              "      <td>24.0</td>\n",
              "      <td>20.0</td>\n",
              "      <td>mild temperate</td>\n",
              "      <td>193.0</td>\n",
              "      <td>40.240955</td>\n",
              "      <td>281.453571</td>\n",
              "      <td>747.524910</td>\n",
              "      <td>295.118774</td>\n",
              "      <td>1.091162</td>\n",
              "      <td>296.376611</td>\n",
              "      <td>297.467773</td>\n",
              "      <td>296.376611</td>\n",
              "      <td>262.566675</td>\n",
              "      <td>278.622852</td>\n",
              "      <td>285.923389</td>\n",
              "      <td>290.274927</td>\n",
              "      <td>288.752838</td>\n",
              "      <td>6.125</td>\n",
              "      <td>7.500</td>\n",
              "      <td>5.767445</td>\n",
              "      <td>14.000</td>\n",
              "      <td>4.875</td>\n",
              "      <td>4.125</td>\n",
              "      <td>0.0120</td>\n",
              "      <td>0.0</td>\n",
              "      <td>4.08775</td>\n",
              "      <td>0.0</td>\n",
              "      <td>0.0</td>\n",
              "      <td>0.0</td>\n",
              "      <td>0.00000</td>\n",
              "      <td>2.791129</td>\n",
              "      <td>2.760229</td>\n",
              "      <td>29.527142</td>\n",
              "      <td>25.678796</td>\n",
              "      <td>14.091809</td>\n",
              "      <td>6.503445</td>\n",
              "      <td>6.488293</td>\n",
              "      <td>...</td>\n",
              "      <td>285.304504</td>\n",
              "      <td>288.020355</td>\n",
              "      <td>285.941437</td>\n",
              "      <td>287.025513</td>\n",
              "      <td>288.901978</td>\n",
              "      <td>290.893524</td>\n",
              "      <td>292.471313</td>\n",
              "      <td>275.283026</td>\n",
              "      <td>292.471313</td>\n",
              "      <td>294.604340</td>\n",
              "      <td>0.0</td>\n",
              "      <td>21.0</td>\n",
              "      <td>99.0</td>\n",
              "      <td>0.0</td>\n",
              "      <td>2.277510</td>\n",
              "      <td>7.151445</td>\n",
              "      <td>7.505346</td>\n",
              "      <td>295.235687</td>\n",
              "      <td>296.000824</td>\n",
              "      <td>99450.273438</td>\n",
              "      <td>0.749565</td>\n",
              "      <td>-0.158933</td>\n",
              "      <td>8.494842</td>\n",
              "      <td>0.0</td>\n",
              "      <td>0.0</td>\n",
              "      <td>0.0</td>\n",
              "      <td>295.235687</td>\n",
              "      <td>0.765137</td>\n",
              "      <td>0.000000</td>\n",
              "      <td>4.087750</td>\n",
              "      <td>0.0</td>\n",
              "      <td>0.0</td>\n",
              "      <td>0.0</td>\n",
              "      <td>0.0</td>\n",
              "      <td>0.0</td>\n",
              "      <td>0.0</td>\n",
              "      <td>273.209448</td>\n",
              "      <td>289.300018</td>\n",
              "      <td>-58.0</td>\n",
              "      <td>41.0</td>\n",
              "    </tr>\n",
              "    <tr>\n",
              "      <th>4</th>\n",
              "      <td>1.552910e+09</td>\n",
              "      <td>46.066667</td>\n",
              "      <td>41.966667</td>\n",
              "      <td>9.0</td>\n",
              "      <td>20.0</td>\n",
              "      <td>dry</td>\n",
              "      <td>90.0</td>\n",
              "      <td>30.394660</td>\n",
              "      <td>279.601429</td>\n",
              "      <td>753.168113</td>\n",
              "      <td>281.233203</td>\n",
              "      <td>-1.461133</td>\n",
              "      <td>282.810181</td>\n",
              "      <td>281.349048</td>\n",
              "      <td>282.810181</td>\n",
              "      <td>242.905981</td>\n",
              "      <td>258.822461</td>\n",
              "      <td>269.483154</td>\n",
              "      <td>274.965063</td>\n",
              "      <td>275.815735</td>\n",
              "      <td>7.000</td>\n",
              "      <td>6.875</td>\n",
              "      <td>19.727903</td>\n",
              "      <td>4.125</td>\n",
              "      <td>1.000</td>\n",
              "      <td>2.250</td>\n",
              "      <td>0.0057</td>\n",
              "      <td>0.0</td>\n",
              "      <td>4.04475</td>\n",
              "      <td>0.0</td>\n",
              "      <td>0.0</td>\n",
              "      <td>0.0</td>\n",
              "      <td>0.00000</td>\n",
              "      <td>2.635770</td>\n",
              "      <td>3.278284</td>\n",
              "      <td>8.752283</td>\n",
              "      <td>6.223914</td>\n",
              "      <td>3.826746</td>\n",
              "      <td>3.674579</td>\n",
              "      <td>-1.011131</td>\n",
              "      <td>...</td>\n",
              "      <td>268.399994</td>\n",
              "      <td>270.326385</td>\n",
              "      <td>273.933167</td>\n",
              "      <td>276.004852</td>\n",
              "      <td>278.190155</td>\n",
              "      <td>280.297913</td>\n",
              "      <td>284.099976</td>\n",
              "      <td>272.069373</td>\n",
              "      <td>284.099976</td>\n",
              "      <td>283.019348</td>\n",
              "      <td>0.0</td>\n",
              "      <td>0.0</td>\n",
              "      <td>74.0</td>\n",
              "      <td>9.0</td>\n",
              "      <td>2.866836</td>\n",
              "      <td>-1.849202</td>\n",
              "      <td>3.411494</td>\n",
              "      <td>281.861969</td>\n",
              "      <td>282.492462</td>\n",
              "      <td>100790.546875</td>\n",
              "      <td>0.707056</td>\n",
              "      <td>1.406434</td>\n",
              "      <td>1.084141</td>\n",
              "      <td>0.0</td>\n",
              "      <td>0.0</td>\n",
              "      <td>0.0</td>\n",
              "      <td>281.861969</td>\n",
              "      <td>0.630493</td>\n",
              "      <td>0.142125</td>\n",
              "      <td>4.186875</td>\n",
              "      <td>0.0</td>\n",
              "      <td>0.0</td>\n",
              "      <td>0.0</td>\n",
              "      <td>0.0</td>\n",
              "      <td>0.0</td>\n",
              "      <td>0.0</td>\n",
              "      <td>273.550024</td>\n",
              "      <td>276.300018</td>\n",
              "      <td>18.0</td>\n",
              "      <td>92.0</td>\n",
              "    </tr>\n",
              "  </tbody>\n",
              "</table>\n",
              "<p>5 rows × 124 columns</p>\n",
              "</div>"
            ],
            "text/plain": [
              "      fact_time  ...  gfs_total_clouds_cover_low_next\n",
              "0  1.543321e+09  ...                              0.0\n",
              "1  1.538776e+09  ...                             11.0\n",
              "2  1.552115e+09  ...                              8.0\n",
              "3  1.549566e+09  ...                             41.0\n",
              "4  1.552910e+09  ...                             92.0\n",
              "\n",
              "[5 rows x 124 columns]"
            ]
          },
          "execution_count": 11,
          "metadata": {},
          "output_type": "execute_result"
        }
      ]
    },
    {
      "cell_type": "code",
      "metadata": {
        "id": "c258ae29",
        "outputId": "d3d920f3-d38b-4ff4-ab9b-89adb5ad9e2d"
      },
      "source": [
        "dev_in = pd.read_csv('../../dev_in.csv')\n",
        "dev_in.head()"
      ],
      "execution_count": null,
      "outputs": [
        {
          "data": {
            "text/html": [
              "<div>\n",
              "<style scoped>\n",
              "    .dataframe tbody tr th:only-of-type {\n",
              "        vertical-align: middle;\n",
              "    }\n",
              "\n",
              "    .dataframe tbody tr th {\n",
              "        vertical-align: top;\n",
              "    }\n",
              "\n",
              "    .dataframe thead th {\n",
              "        text-align: right;\n",
              "    }\n",
              "</style>\n",
              "<table border=\"1\" class=\"dataframe\">\n",
              "  <thead>\n",
              "    <tr style=\"text-align: right;\">\n",
              "      <th></th>\n",
              "      <th>fact_time</th>\n",
              "      <th>fact_latitude</th>\n",
              "      <th>fact_longitude</th>\n",
              "      <th>fact_temperature</th>\n",
              "      <th>fact_cwsm_class</th>\n",
              "      <th>climate</th>\n",
              "      <th>topography_bathymetry</th>\n",
              "      <th>sun_elevation</th>\n",
              "      <th>climate_temperature</th>\n",
              "      <th>climate_pressure</th>\n",
              "      <th>...</th>\n",
              "      <th>cmc_0_1_66_0_grad</th>\n",
              "      <th>cmc_0_1_66_0_next</th>\n",
              "      <th>cmc_0_1_67_0_grad</th>\n",
              "      <th>cmc_0_1_67_0_next</th>\n",
              "      <th>cmc_0_1_68_0_grad</th>\n",
              "      <th>cmc_0_1_68_0_next</th>\n",
              "      <th>gfs_2m_dewpoint_grad</th>\n",
              "      <th>gfs_2m_dewpoint_next</th>\n",
              "      <th>gfs_total_clouds_cover_low_grad</th>\n",
              "      <th>gfs_total_clouds_cover_low_next</th>\n",
              "    </tr>\n",
              "  </thead>\n",
              "  <tbody>\n",
              "    <tr>\n",
              "      <th>0</th>\n",
              "      <td>1563124500</td>\n",
              "      <td>42.614899</td>\n",
              "      <td>-89.590401</td>\n",
              "      <td>28.0</td>\n",
              "      <td>0</td>\n",
              "      <td>snow</td>\n",
              "      <td>313.0</td>\n",
              "      <td>65.438862</td>\n",
              "      <td>19.171429</td>\n",
              "      <td>737.750555</td>\n",
              "      <td>...</td>\n",
              "      <td>0.0</td>\n",
              "      <td>0.0</td>\n",
              "      <td>0.0</td>\n",
              "      <td>0.0</td>\n",
              "      <td>0.0</td>\n",
              "      <td>0.0</td>\n",
              "      <td>2.399994</td>\n",
              "      <td>23.450006</td>\n",
              "      <td>26.0</td>\n",
              "      <td>71.0</td>\n",
              "    </tr>\n",
              "    <tr>\n",
              "      <th>1</th>\n",
              "      <td>1565951400</td>\n",
              "      <td>61.885201</td>\n",
              "      <td>34.154701</td>\n",
              "      <td>18.0</td>\n",
              "      <td>10</td>\n",
              "      <td>snow</td>\n",
              "      <td>34.0</td>\n",
              "      <td>40.277528</td>\n",
              "      <td>15.127857</td>\n",
              "      <td>751.846067</td>\n",
              "      <td>...</td>\n",
              "      <td>0.0</td>\n",
              "      <td>0.0</td>\n",
              "      <td>0.0</td>\n",
              "      <td>0.0</td>\n",
              "      <td>0.0</td>\n",
              "      <td>0.0</td>\n",
              "      <td>-0.300018</td>\n",
              "      <td>9.449976</td>\n",
              "      <td>21.0</td>\n",
              "      <td>40.0</td>\n",
              "    </tr>\n",
              "    <tr>\n",
              "      <th>2</th>\n",
              "      <td>1563850200</td>\n",
              "      <td>38.468201</td>\n",
              "      <td>43.332298</td>\n",
              "      <td>17.0</td>\n",
              "      <td>10</td>\n",
              "      <td>snow</td>\n",
              "      <td>1652.0</td>\n",
              "      <td>-0.237116</td>\n",
              "      <td>20.117857</td>\n",
              "      <td>609.203551</td>\n",
              "      <td>...</td>\n",
              "      <td>0.0</td>\n",
              "      <td>0.0</td>\n",
              "      <td>0.0</td>\n",
              "      <td>0.0</td>\n",
              "      <td>0.0</td>\n",
              "      <td>0.0</td>\n",
              "      <td>1.849335</td>\n",
              "      <td>3.365320</td>\n",
              "      <td>0.0</td>\n",
              "      <td>0.0</td>\n",
              "    </tr>\n",
              "    <tr>\n",
              "      <th>3</th>\n",
              "      <td>1562806380</td>\n",
              "      <td>38.791000</td>\n",
              "      <td>-97.652199</td>\n",
              "      <td>28.0</td>\n",
              "      <td>0</td>\n",
              "      <td>snow</td>\n",
              "      <td>383.0</td>\n",
              "      <td>19.207866</td>\n",
              "      <td>33.193571</td>\n",
              "      <td>724.725255</td>\n",
              "      <td>...</td>\n",
              "      <td>0.0</td>\n",
              "      <td>0.0</td>\n",
              "      <td>0.0</td>\n",
              "      <td>0.0</td>\n",
              "      <td>0.0</td>\n",
              "      <td>0.0</td>\n",
              "      <td>-2.486816</td>\n",
              "      <td>16.263177</td>\n",
              "      <td>0.0</td>\n",
              "      <td>0.0</td>\n",
              "    </tr>\n",
              "    <tr>\n",
              "      <th>4</th>\n",
              "      <td>1564509600</td>\n",
              "      <td>58.767200</td>\n",
              "      <td>-111.116997</td>\n",
              "      <td>20.0</td>\n",
              "      <td>20</td>\n",
              "      <td>snow</td>\n",
              "      <td>235.0</td>\n",
              "      <td>46.174496</td>\n",
              "      <td>19.481429</td>\n",
              "      <td>740.954837</td>\n",
              "      <td>...</td>\n",
              "      <td>0.0</td>\n",
              "      <td>0.0</td>\n",
              "      <td>0.0</td>\n",
              "      <td>0.0</td>\n",
              "      <td>0.0</td>\n",
              "      <td>0.0</td>\n",
              "      <td>-1.200012</td>\n",
              "      <td>7.050012</td>\n",
              "      <td>-1.0</td>\n",
              "      <td>5.0</td>\n",
              "    </tr>\n",
              "  </tbody>\n",
              "</table>\n",
              "<p>5 rows × 129 columns</p>\n",
              "</div>"
            ],
            "text/plain": [
              "    fact_time  fact_latitude  fact_longitude  fact_temperature  \\\n",
              "0  1563124500      42.614899      -89.590401              28.0   \n",
              "1  1565951400      61.885201       34.154701              18.0   \n",
              "2  1563850200      38.468201       43.332298              17.0   \n",
              "3  1562806380      38.791000      -97.652199              28.0   \n",
              "4  1564509600      58.767200     -111.116997              20.0   \n",
              "\n",
              "   fact_cwsm_class climate  topography_bathymetry  sun_elevation  \\\n",
              "0                0    snow                  313.0      65.438862   \n",
              "1               10    snow                   34.0      40.277528   \n",
              "2               10    snow                 1652.0      -0.237116   \n",
              "3                0    snow                  383.0      19.207866   \n",
              "4               20    snow                  235.0      46.174496   \n",
              "\n",
              "   climate_temperature  climate_pressure  ...  cmc_0_1_66_0_grad  \\\n",
              "0            19.171429        737.750555  ...                0.0   \n",
              "1            15.127857        751.846067  ...                0.0   \n",
              "2            20.117857        609.203551  ...                0.0   \n",
              "3            33.193571        724.725255  ...                0.0   \n",
              "4            19.481429        740.954837  ...                0.0   \n",
              "\n",
              "   cmc_0_1_66_0_next  cmc_0_1_67_0_grad  cmc_0_1_67_0_next  cmc_0_1_68_0_grad  \\\n",
              "0                0.0                0.0                0.0                0.0   \n",
              "1                0.0                0.0                0.0                0.0   \n",
              "2                0.0                0.0                0.0                0.0   \n",
              "3                0.0                0.0                0.0                0.0   \n",
              "4                0.0                0.0                0.0                0.0   \n",
              "\n",
              "   cmc_0_1_68_0_next  gfs_2m_dewpoint_grad  gfs_2m_dewpoint_next  \\\n",
              "0                0.0              2.399994             23.450006   \n",
              "1                0.0             -0.300018              9.449976   \n",
              "2                0.0              1.849335              3.365320   \n",
              "3                0.0             -2.486816             16.263177   \n",
              "4                0.0             -1.200012              7.050012   \n",
              "\n",
              "   gfs_total_clouds_cover_low_grad  gfs_total_clouds_cover_low_next  \n",
              "0                             26.0                             71.0  \n",
              "1                             21.0                             40.0  \n",
              "2                              0.0                              0.0  \n",
              "3                              0.0                              0.0  \n",
              "4                             -1.0                              5.0  \n",
              "\n",
              "[5 rows x 129 columns]"
            ]
          },
          "execution_count": 4,
          "metadata": {},
          "output_type": "execute_result"
        }
      ]
    },
    {
      "cell_type": "code",
      "metadata": {
        "id": "ce2e9d35",
        "outputId": "55b7e44f-207c-477d-d2f0-236dac2f1709"
      },
      "source": [
        "dev_out = pd.read_csv('../../dev_out.csv')\n",
        "dev_out.head()"
      ],
      "execution_count": null,
      "outputs": [
        {
          "data": {
            "text/html": [
              "<div>\n",
              "<style scoped>\n",
              "    .dataframe tbody tr th:only-of-type {\n",
              "        vertical-align: middle;\n",
              "    }\n",
              "\n",
              "    .dataframe tbody tr th {\n",
              "        vertical-align: top;\n",
              "    }\n",
              "\n",
              "    .dataframe thead th {\n",
              "        text-align: right;\n",
              "    }\n",
              "</style>\n",
              "<table border=\"1\" class=\"dataframe\">\n",
              "  <thead>\n",
              "    <tr style=\"text-align: right;\">\n",
              "      <th></th>\n",
              "      <th>fact_time</th>\n",
              "      <th>fact_latitude</th>\n",
              "      <th>fact_longitude</th>\n",
              "      <th>fact_temperature</th>\n",
              "      <th>fact_cwsm_class</th>\n",
              "      <th>climate</th>\n",
              "      <th>topography_bathymetry</th>\n",
              "      <th>sun_elevation</th>\n",
              "      <th>climate_temperature</th>\n",
              "      <th>climate_pressure</th>\n",
              "      <th>...</th>\n",
              "      <th>cmc_0_1_66_0_grad</th>\n",
              "      <th>cmc_0_1_66_0_next</th>\n",
              "      <th>cmc_0_1_67_0_grad</th>\n",
              "      <th>cmc_0_1_67_0_next</th>\n",
              "      <th>cmc_0_1_68_0_grad</th>\n",
              "      <th>cmc_0_1_68_0_next</th>\n",
              "      <th>gfs_2m_dewpoint_grad</th>\n",
              "      <th>gfs_2m_dewpoint_next</th>\n",
              "      <th>gfs_total_clouds_cover_low_grad</th>\n",
              "      <th>gfs_total_clouds_cover_low_next</th>\n",
              "    </tr>\n",
              "  </thead>\n",
              "  <tbody>\n",
              "    <tr>\n",
              "      <th>0</th>\n",
              "      <td>1563124500</td>\n",
              "      <td>42.614899</td>\n",
              "      <td>-89.590401</td>\n",
              "      <td>28.0</td>\n",
              "      <td>0</td>\n",
              "      <td>snow</td>\n",
              "      <td>313.0</td>\n",
              "      <td>65.438862</td>\n",
              "      <td>19.171429</td>\n",
              "      <td>737.750555</td>\n",
              "      <td>...</td>\n",
              "      <td>0.0</td>\n",
              "      <td>0.0</td>\n",
              "      <td>0.0</td>\n",
              "      <td>0.0</td>\n",
              "      <td>0.0</td>\n",
              "      <td>0.0</td>\n",
              "      <td>2.399994</td>\n",
              "      <td>23.450006</td>\n",
              "      <td>26.0</td>\n",
              "      <td>71.0</td>\n",
              "    </tr>\n",
              "    <tr>\n",
              "      <th>1</th>\n",
              "      <td>1565951400</td>\n",
              "      <td>61.885201</td>\n",
              "      <td>34.154701</td>\n",
              "      <td>18.0</td>\n",
              "      <td>10</td>\n",
              "      <td>snow</td>\n",
              "      <td>34.0</td>\n",
              "      <td>40.277528</td>\n",
              "      <td>15.127857</td>\n",
              "      <td>751.846067</td>\n",
              "      <td>...</td>\n",
              "      <td>0.0</td>\n",
              "      <td>0.0</td>\n",
              "      <td>0.0</td>\n",
              "      <td>0.0</td>\n",
              "      <td>0.0</td>\n",
              "      <td>0.0</td>\n",
              "      <td>-0.300018</td>\n",
              "      <td>9.449976</td>\n",
              "      <td>21.0</td>\n",
              "      <td>40.0</td>\n",
              "    </tr>\n",
              "    <tr>\n",
              "      <th>2</th>\n",
              "      <td>1563850200</td>\n",
              "      <td>38.468201</td>\n",
              "      <td>43.332298</td>\n",
              "      <td>17.0</td>\n",
              "      <td>10</td>\n",
              "      <td>snow</td>\n",
              "      <td>1652.0</td>\n",
              "      <td>-0.237116</td>\n",
              "      <td>20.117857</td>\n",
              "      <td>609.203551</td>\n",
              "      <td>...</td>\n",
              "      <td>0.0</td>\n",
              "      <td>0.0</td>\n",
              "      <td>0.0</td>\n",
              "      <td>0.0</td>\n",
              "      <td>0.0</td>\n",
              "      <td>0.0</td>\n",
              "      <td>1.849335</td>\n",
              "      <td>3.365320</td>\n",
              "      <td>0.0</td>\n",
              "      <td>0.0</td>\n",
              "    </tr>\n",
              "    <tr>\n",
              "      <th>3</th>\n",
              "      <td>1562806380</td>\n",
              "      <td>38.791000</td>\n",
              "      <td>-97.652199</td>\n",
              "      <td>28.0</td>\n",
              "      <td>0</td>\n",
              "      <td>snow</td>\n",
              "      <td>383.0</td>\n",
              "      <td>19.207866</td>\n",
              "      <td>33.193571</td>\n",
              "      <td>724.725255</td>\n",
              "      <td>...</td>\n",
              "      <td>0.0</td>\n",
              "      <td>0.0</td>\n",
              "      <td>0.0</td>\n",
              "      <td>0.0</td>\n",
              "      <td>0.0</td>\n",
              "      <td>0.0</td>\n",
              "      <td>-2.486816</td>\n",
              "      <td>16.263177</td>\n",
              "      <td>0.0</td>\n",
              "      <td>0.0</td>\n",
              "    </tr>\n",
              "    <tr>\n",
              "      <th>4</th>\n",
              "      <td>1564509600</td>\n",
              "      <td>58.767200</td>\n",
              "      <td>-111.116997</td>\n",
              "      <td>20.0</td>\n",
              "      <td>20</td>\n",
              "      <td>snow</td>\n",
              "      <td>235.0</td>\n",
              "      <td>46.174496</td>\n",
              "      <td>19.481429</td>\n",
              "      <td>740.954837</td>\n",
              "      <td>...</td>\n",
              "      <td>0.0</td>\n",
              "      <td>0.0</td>\n",
              "      <td>0.0</td>\n",
              "      <td>0.0</td>\n",
              "      <td>0.0</td>\n",
              "      <td>0.0</td>\n",
              "      <td>-1.200012</td>\n",
              "      <td>7.050012</td>\n",
              "      <td>-1.0</td>\n",
              "      <td>5.0</td>\n",
              "    </tr>\n",
              "  </tbody>\n",
              "</table>\n",
              "<p>5 rows × 129 columns</p>\n",
              "</div>"
            ],
            "text/plain": [
              "    fact_time  fact_latitude  fact_longitude  fact_temperature  \\\n",
              "0  1563124500      42.614899      -89.590401              28.0   \n",
              "1  1565951400      61.885201       34.154701              18.0   \n",
              "2  1563850200      38.468201       43.332298              17.0   \n",
              "3  1562806380      38.791000      -97.652199              28.0   \n",
              "4  1564509600      58.767200     -111.116997              20.0   \n",
              "\n",
              "   fact_cwsm_class climate  topography_bathymetry  sun_elevation  \\\n",
              "0                0    snow                  313.0      65.438862   \n",
              "1               10    snow                   34.0      40.277528   \n",
              "2               10    snow                 1652.0      -0.237116   \n",
              "3                0    snow                  383.0      19.207866   \n",
              "4               20    snow                  235.0      46.174496   \n",
              "\n",
              "   climate_temperature  climate_pressure  ...  cmc_0_1_66_0_grad  \\\n",
              "0            19.171429        737.750555  ...                0.0   \n",
              "1            15.127857        751.846067  ...                0.0   \n",
              "2            20.117857        609.203551  ...                0.0   \n",
              "3            33.193571        724.725255  ...                0.0   \n",
              "4            19.481429        740.954837  ...                0.0   \n",
              "\n",
              "   cmc_0_1_66_0_next  cmc_0_1_67_0_grad  cmc_0_1_67_0_next  cmc_0_1_68_0_grad  \\\n",
              "0                0.0                0.0                0.0                0.0   \n",
              "1                0.0                0.0                0.0                0.0   \n",
              "2                0.0                0.0                0.0                0.0   \n",
              "3                0.0                0.0                0.0                0.0   \n",
              "4                0.0                0.0                0.0                0.0   \n",
              "\n",
              "   cmc_0_1_68_0_next  gfs_2m_dewpoint_grad  gfs_2m_dewpoint_next  \\\n",
              "0                0.0              2.399994             23.450006   \n",
              "1                0.0             -0.300018              9.449976   \n",
              "2                0.0              1.849335              3.365320   \n",
              "3                0.0             -2.486816             16.263177   \n",
              "4                0.0             -1.200012              7.050012   \n",
              "\n",
              "   gfs_total_clouds_cover_low_grad  gfs_total_clouds_cover_low_next  \n",
              "0                             26.0                             71.0  \n",
              "1                             21.0                             40.0  \n",
              "2                              0.0                              0.0  \n",
              "3                              0.0                              0.0  \n",
              "4                             -1.0                              5.0  \n",
              "\n",
              "[5 rows x 129 columns]"
            ]
          },
          "execution_count": 5,
          "metadata": {},
          "output_type": "execute_result"
        }
      ]
    },
    {
      "cell_type": "markdown",
      "metadata": {
        "id": "n5EX12Sx97Ei"
      },
      "source": [
        "#2) EDA"
      ]
    },
    {
      "cell_type": "code",
      "metadata": {
        "id": "z_SswTNfideG"
      },
      "source": [
        "# Visualize the temperature range in the data\n",
        "\n",
        "from visualize import visualize_temperatures\n",
        "df_names = ['train', 'dev_in', 'dev_out']\n",
        "df_list = [df_train, df_dev_in, df_dev_out]"
      ],
      "execution_count": null,
      "outputs": []
    },
    {
      "cell_type": "code",
      "metadata": {
        "id": "zvwm_IMcideG",
        "outputId": "2b7d0af6-8d55-43ef-88bb-c0995b66c01d"
      },
      "source": [
        "# Violin Plot\n",
        "visualize_temperatures(df_list, df_names, plot_type='violin')"
      ],
      "execution_count": null,
      "outputs": [
        {
          "data": {
            "image/png": "[encoded data removed]",
            "text/plain": [
              "<Figure size 432x288 with 1 Axes>"
            ]
          },
          "metadata": {
            "needs_background": "light"
          },
          "output_type": "display_data"
        },
        {
          "data": {
            "text/plain": [
              "<Figure size 432x288 with 0 Axes>"
            ]
          },
          "metadata": {},
          "output_type": "display_data"
        }
      ]
    },
    {
      "cell_type": "code",
      "metadata": {
        "id": "MF_JJYESideH",
        "outputId": "6b2a08d3-80f8-4840-a0a9-dcef6ab5a4e7"
      },
      "source": [
        "# Histogram\n",
        "visualize_temperatures(df_list, df_names, plot_type='histogram')"
      ],
      "execution_count": null,
      "outputs": [
        {
          "data": {
            "image/png": "[encoded data removed]",
            "text/plain": [
              "<Figure size 432x288 with 1 Axes>"
            ]
          },
          "metadata": {
            "needs_background": "light"
          },
          "output_type": "display_data"
        },
        {
          "data": {
            "text/plain": [
              "<Figure size 432x288 with 0 Axes>"
            ]
          },
          "metadata": {},
          "output_type": "display_data"
        }
      ]
    },
    {
      "cell_type": "code",
      "metadata": {
        "colab": {
          "base_uri": "https://localhost:8080/",
          "height": 1000
        },
        "id": "fq-18Dn9hRuh",
        "outputId": "6fb81bfb-fa79-402d-e58a-5b6ed8fee180"
      },
      "source": [
        "# Check if there any missing values in train set\n",
        "ax = df_train.isna().sum().sort_values().plot(kind = 'barh', figsize = (9, 50))\n",
        "plt.title('Percentage of Missing Values Per Column in Train Set', fontdict={'size':15})\n",
        "for p in ax.patches:\n",
        "    percentage ='{:,.2f}%'.format((p.get_width()/df_train.shape[0])*100)\n",
        "    width, height =p.get_width(),p.get_height()\n",
        "    x=p.get_x()+width+0.02\n",
        "    y=p.get_y()+height/2\n",
        "    ax.annotate(percentage,(x,y))"
      ],
      "execution_count": null,
      "outputs": [
        {
          "output_type": "display_data",
          "data": {
            "image/png": "[encoded data removed]",
            "text/plain": [
              "<Figure size 648x3600 with 1 Axes>"
            ]
          },
          "metadata": {
            "needs_background": "light"
          }
        }
      ]
    },
    {
      "cell_type": "markdown",
      "metadata": {
        "id": "cJupuMjziolJ"
      },
      "source": [
        "#3)Data Preprocessing 1\n",
        "\n"
      ]
    },
    {
      "cell_type": "markdown",
      "metadata": {
        "id": "ZkgvsZR9_mw5"
      },
      "source": [
        "3.1)Data reduction - Dropped 5 columns."
      ]
    },
    {
      "cell_type": "code",
      "metadata": {
        "id": "4YYMYCIHqRkK",
        "scrolled": false
      },
      "source": [
        "#form train data\n",
        "train.drop(columns=['wrf_hail'],inplace=True)\n",
        "train.drop(['cmc_available','gfs_available','gfs_soil_temperature_available','wrf_available'],axis='columns', inplace=True)\n",
        "\n",
        "#form dev_in data\n",
        "dev_in.drop(columns=['wrf_hail'],inplace=True)\n",
        "dev_in.drop(['cmc_available','gfs_available','gfs_soil_temperature_available','wrf_available'],axis='columns', inplace=True)\n",
        "\n",
        "#form dev_out data\n",
        "dev_out.drop(columns=['wrf_hail'],inplace=True)\n",
        "dev_out.drop(['cmc_available','gfs_available','gfs_soil_temperature_available','wrf_available'],axis='columns', inplace=True)\n",
        "\n"
      ],
      "execution_count": null,
      "outputs": []
    },
    {
      "cell_type": "markdown",
      "metadata": {
        "id": "o53R2lJeplbF"
      },
      "source": [
        "3.2)Filling missing values with mean of the column."
      ]
    },
    {
      "cell_type": "code",
      "metadata": {
        "id": "KzDqvkZwo_Qk"
      },
      "source": [
        "#replacing the -9999 value with NaN in 'gfs_soil_temperature' column  \n",
        "train[\"gfs_soil_temperature\"].replace(-9999,np.nan, inplace=True)\n",
        "dev_in[\"gfs_soil_temperature\"].replace(-9999,np.nan, inplace=True)\n",
        "dev_out[\"gfs_soil_temperature\"].replace(-9999,np.nan, inplace=True)\n",
        "\n",
        "\n",
        "#train data\n",
        "for column in train.columns:\n",
        "    mean_value2=train[column].mean()\n",
        "    train[column].fillna(value=mean_value2,inplace=True)\n",
        "    print(\"updated\",column)\n",
        "\n",
        "#dev_in data\n",
        "for column in dev_in.columns:\n",
        "    mean_value=dev_in[column].mean()\n",
        "    dev_in[column].fillna(value=mean_value,inplace=True)\n",
        "    print(\"updated\",column)\n",
        "\n",
        "#dev_out data\n",
        "for column in dev_out.columns:\n",
        "    mean_value3=dev_out[column].mean()\n",
        "    dev_out[column].fillna(value=mean_value2,inplace=True)\n",
        "    print(\"updated\",column)"
      ],
      "execution_count": null,
      "outputs": []
    },
    {
      "cell_type": "markdown",
      "metadata": {
        "id": "hlbXHs4qxcZ-"
      },
      "source": [
        "3.3)Data Transformation - Converted celsius scale values to kelvin scale.\n"
      ]
    },
    {
      "cell_type": "code",
      "metadata": {
        "id": "6mwMuxpvw93h"
      },
      "source": [
        "list=['climate_temperature','gfs_2m_dewpoint','gfs_2m_dewpoint_grad','gfs_2m_dewpoint_next','gfs_soil_temperature','gfs_temperature_10000','gfs_temperature_15000','gfs_temperature_20000','gfs_temperature_25000','gfs_temperature_30000','gfs_temperature_35000','gfs_temperature_40000','gfs_temperature_45000','gfs_temperature_5000','gfs_temperature_50000','gfs_temperature_55000','gfs_temperature_60000','gfs_temperature_65000','gfs_temperature_7000','gfs_temperature_70000','gfs_temperature_75000','gfs_temperature_80000','gfs_temperature_85000','gfs_temperature_90000','gfs_temperature_92500','gfs_temperature_95000','gfs_temperature_97500','gfs_temperature_sea','gfs_temperature_sea_grad','gfs_temperature_sea_interpolated','gfs_temperature_sea_next']\n",
        "dev_in[list] = dev_in.apply(lambda x:x[list]+273.15,axis=1)\n",
        "dev_out[list] = dev_out.apply(lambda x:x[list]+273.15,axis=1)\n",
        "train[list] = train.apply(lambda x:x[list]+273.15,axis=1)"
      ],
      "execution_count": null,
      "outputs": []
    },
    {
      "cell_type": "markdown",
      "metadata": {
        "id": "evcCq1BgS1g3"
      },
      "source": [
        "3.4)Saving the preprocessed dataset and using them in further execution"
      ]
    },
    {
      "cell_type": "code",
      "metadata": {
        "id": "J_7HpVCJpaVM"
      },
      "source": [
        "#saving preprocessed data\n",
        "dev_in.to_csv('df_dev_in.csv', header=True, index=False)\n",
        "dev_out.to_csv('df_dev_out.csv', header=True, index=False)\n",
        "train.to_csv('df_train.csv', header=True, index=False)"
      ],
      "execution_count": null,
      "outputs": []
    },
    {
      "cell_type": "markdown",
      "metadata": {
        "id": "d0P_uhcj34uJ"
      },
      "source": [
        "#4) Model building ( Preprocesing Data 1 ) \n"
      ]
    },
    {
      "cell_type": "markdown",
      "metadata": {
        "id": "L5IAjj-tvicX"
      },
      "source": [
        "### 4.1) CatBoostRegressor \n",
        "\n",
        "### Training\n",
        "\n",
        "Here we have used the `CatBoostRegressor` as the model.\n",
        "- An ensemble of models are trained.\n",
        "- It is important to use `RMSEWithUncertainty` as the loss function during training time in order to be able to calculate uncertainty measures during inference.\n",
        "- The models are trained using `train` and the hyperparameters should be finetuned using `dev_in` and `dev_out`."
      ]
    },
    {
      "cell_type": "code",
      "metadata": {
        "id": "X32ws4yOvicY"
      },
      "source": [
        "# Extract features and targets, and remove redundant meta-data\n",
        "X_train = train.iloc[:,6:]\n",
        "X_dev_in = dev_in.iloc[:,6:]\n",
        "y_train = train['fact_temperature']\n",
        "y_dev_in = dev_in['fact_temperature']"
      ],
      "execution_count": null,
      "outputs": []
    },
    {
      "cell_type": "code",
      "metadata": {
        "id": "yI8EO7YZ6o4q"
      },
      "source": [
        "#install catboost\n",
        "!pip install catboost\n",
        "# Set training hyperparameters (note these are dummy hyperparameters - you will need to select your own)\n",
        "ensemble_size = 10\n",
        "depth = 8\n",
        "iterations = 2000\n",
        "learning_rate = 0.03"
      ],
      "execution_count": null,
      "outputs": []
    },
    {
      "cell_type": "code",
      "metadata": {
        "colab": {
          "base_uri": "https://localhost:8080/"
        },
        "id": "6D5B73daveNC",
        "outputId": "64ab3b76-3e10-4fdf-bcce-cfb262bc0f59"
      },
      "source": [
        "# Train ensemble of models\n",
        "\n",
        "import catboost\n",
        "\n",
        "trained_models = []\n",
        "for seed in range(ensemble_size):\n",
        "    \n",
        "    model = catboost.CatBoostRegressor(\n",
        "        learning_rate = learning_rate,\n",
        "        iterations = iterations,\n",
        "        depth = depth,\n",
        "        loss_function = 'RMSEWithUncertainty',\n",
        "        eval_metric = 'RMSE',\n",
        "        random_seed = seed)\n",
        "    \n",
        "    print(f'\\n Model index: {seed}\\n')\n",
        "    \n",
        "    model.fit(\n",
        "        X_train,\n",
        "        y_train,\n",
        "        verbose = 100,\n",
        "        eval_set = (X_dev_in, y_dev_in))\n",
        "    \n",
        "    trained_models.append(model)\n",
        "    model.save_model(f'{dir_path}/CBmodeldma{seed+1}.cbm')"
      ],
      "execution_count": null,
      "outputs": [
        {
          "metadata": {
            "tags": null
          },
          "name": "stdout",
          "output_type": "stream",
          "text": [
            "\n",
            " Model index: 0\n",
            "\n",
            "0:\tlearn: 7.5816390\ttest: 7.5775317\tbest: 7.5775317 (0)\ttotal: 4.97s\tremaining: 2h 45m 33s\n",
            "100:\tlearn: 2.0369210\ttest: 2.0400344\tbest: 2.0400344 (100)\ttotal: 7m 20s\tremaining: 2h 17m 57s\n",
            "200:\tlearn: 1.9550967\ttest: 1.9630784\tbest: 1.9630784 (200)\ttotal: 14m 34s\tremaining: 2h 10m 29s\n",
            "300:\tlearn: 1.9072312\ttest: 1.9196332\tbest: 1.9196332 (300)\ttotal: 21m 57s\tremaining: 2h 3m 57s\n",
            "400:\tlearn: 1.8700040\ttest: 1.8872810\tbest: 1.8872810 (400)\ttotal: 29m 19s\tremaining: 1h 56m 56s\n",
            "500:\tlearn: 1.8403260\ttest: 1.8633876\tbest: 1.8633876 (500)\ttotal: 36m 44s\tremaining: 1h 49m 56s\n",
            "600:\tlearn: 1.8154601\ttest: 1.8449059\tbest: 1.8449059 (600)\ttotal: 44m 4s\tremaining: 1h 42m 35s\n",
            "700:\tlearn: 1.7942458\ttest: 1.8291767\tbest: 1.8291767 (700)\ttotal: 51m 24s\tremaining: 1h 35m 16s\n",
            "800:\tlearn: 1.7751987\ttest: 1.8156543\tbest: 1.8156543 (800)\ttotal: 58m 48s\tremaining: 1h 28m 1s\n",
            "900:\tlearn: 1.7586345\ttest: 1.8050825\tbest: 1.8050825 (900)\ttotal: 1h 6m 16s\tremaining: 1h 20m 50s\n",
            "1000:\tlearn: 1.7439246\ttest: 1.7958725\tbest: 1.7958725 (1000)\ttotal: 1h 14m\tremaining: 1h 13m 52s\n",
            "1100:\tlearn: 1.7299543\ttest: 1.7863930\tbest: 1.7863930 (1100)\ttotal: 1h 21m 17s\tremaining: 1h 6m 22s\n",
            "1200:\tlearn: 1.7166327\ttest: 1.7782554\tbest: 1.7782554 (1200)\ttotal: 1h 28m 41s\tremaining: 59m\n",
            "1300:\tlearn: 1.7039038\ttest: 1.7700625\tbest: 1.7700625 (1300)\ttotal: 1h 36m 3s\tremaining: 51m 36s\n",
            "1400:\tlearn: 1.6915821\ttest: 1.7623068\tbest: 1.7623068 (1400)\ttotal: 1h 43m 25s\tremaining: 44m 13s\n",
            "1500:\tlearn: 1.6802641\ttest: 1.7561651\tbest: 1.7561651 (1500)\ttotal: 1h 50m 49s\tremaining: 36m 50s\n",
            "1600:\tlearn: 1.6701522\ttest: 1.7507465\tbest: 1.7507465 (1600)\ttotal: 1h 58m 1s\tremaining: 29m 24s\n",
            "1700:\tlearn: 1.6598357\ttest: 1.7451494\tbest: 1.7451494 (1700)\ttotal: 2h 5m 29s\tremaining: 22m 3s\n",
            "1800:\tlearn: 1.6498919\ttest: 1.7398732\tbest: 1.7398732 (1800)\ttotal: 2h 12m 45s\tremaining: 14m 40s\n",
            "1900:\tlearn: 1.6407780\ttest: 1.7345910\tbest: 1.7345910 (1900)\ttotal: 2h 20m 17s\tremaining: 7m 18s\n",
            "1999:\tlearn: 1.6313661\ttest: 1.7302176\tbest: 1.7302176 (1999)\ttotal: 2h 27m 31s\tremaining: 0us\n",
            "\n",
            "bestTest = 1.730217574\n",
            "bestIteration = 1999\n",
            "\n",
            "\n",
            " Model index: 1\n",
            "\n",
            "0:\tlearn: 7.5755465\ttest: 7.5670429\tbest: 7.5670429 (0)\ttotal: 5.19s\tremaining: 2h 52m 59s\n",
            "100:\tlearn: 2.0399372\ttest: 2.0413916\tbest: 2.0413916 (100)\ttotal: 7m 27s\tremaining: 2h 20m 12s\n",
            "200:\tlearn: 1.9552895\ttest: 1.9621459\tbest: 1.9621459 (200)\ttotal: 14m 58s\tremaining: 2h 14m 2s\n",
            "300:\tlearn: 1.9054496\ttest: 1.9163885\tbest: 1.9163885 (300)\ttotal: 22m 26s\tremaining: 2h 6m 40s\n",
            "400:\tlearn: 1.8685631\ttest: 1.8863330\tbest: 1.8863330 (400)\ttotal: 29m 57s\tremaining: 1h 59m 29s\n",
            "500:\tlearn: 1.8394455\ttest: 1.8627928\tbest: 1.8627928 (500)\ttotal: 37m 21s\tremaining: 1h 51m 47s\n",
            "600:\tlearn: 1.8149280\ttest: 1.8440420\tbest: 1.8440420 (600)\ttotal: 44m 46s\tremaining: 1h 44m 13s\n",
            "700:\tlearn: 1.7940506\ttest: 1.8287769\tbest: 1.8287769 (700)\ttotal: 52m 19s\tremaining: 1h 36m 56s\n",
            "800:\tlearn: 1.7749585\ttest: 1.8148379\tbest: 1.8148379 (800)\ttotal: 59m 49s\tremaining: 1h 29m 32s\n",
            "900:\tlearn: 1.7584444\ttest: 1.8034444\tbest: 1.8034444 (900)\ttotal: 1h 7m 8s\tremaining: 1h 21m 54s\n",
            "1000:\tlearn: 1.7433965\ttest: 1.7926417\tbest: 1.7926417 (1000)\ttotal: 1h 14m 32s\tremaining: 1h 14m 23s\n",
            "1100:\tlearn: 1.7291703\ttest: 1.7836037\tbest: 1.7836037 (1100)\ttotal: 1h 21m 49s\tremaining: 1h 6m 48s\n",
            "1200:\tlearn: 1.7155475\ttest: 1.7747981\tbest: 1.7747981 (1200)\ttotal: 1h 29m 22s\tremaining: 59m 27s\n",
            "1300:\tlearn: 1.7031632\ttest: 1.7674938\tbest: 1.7674938 (1300)\ttotal: 1h 36m 51s\tremaining: 52m 2s\n",
            "1400:\tlearn: 1.6915266\ttest: 1.7601493\tbest: 1.7601493 (1400)\ttotal: 1h 44m 7s\tremaining: 44m 31s\n",
            "1500:\tlearn: 1.6804158\ttest: 1.7528433\tbest: 1.7528315 (1497)\ttotal: 1h 51m 43s\tremaining: 37m 8s\n",
            "1600:\tlearn: 1.6698205\ttest: 1.7476578\tbest: 1.7476578 (1600)\ttotal: 1h 59m 44s\tremaining: 29m 50s\n",
            "1700:\tlearn: 1.6596994\ttest: 1.7415551\tbest: 1.7415551 (1700)\ttotal: 2h 8m 5s\tremaining: 22m 30s\n",
            "1800:\tlearn: 1.6493485\ttest: 1.7359531\tbest: 1.7359531 (1800)\ttotal: 2h 16m 24s\tremaining: 15m 4s\n",
            "1900:\tlearn: 1.6404892\ttest: 1.7303877\tbest: 1.7303877 (1900)\ttotal: 2h 23m 44s\tremaining: 7m 29s\n",
            "1999:\tlearn: 1.6317735\ttest: 1.7263507\tbest: 1.7263507 (1999)\ttotal: 2h 31m 2s\tremaining: 0us\n",
            "\n",
            "bestTest = 1.726350726\n",
            "bestIteration = 1999\n",
            "\n",
            "\n",
            " Model index: 2\n",
            "\n",
            "0:\tlearn: 7.5711025\ttest: 7.5655850\tbest: 7.5655850 (0)\ttotal: 5.46s\tremaining: 3h 1m 59s\n",
            "100:\tlearn: 2.0408151\ttest: 2.0430787\tbest: 2.0430787 (100)\ttotal: 7m 34s\tremaining: 2h 22m 17s\n",
            "200:\tlearn: 1.9559784\ttest: 1.9628527\tbest: 1.9628527 (200)\ttotal: 14m 59s\tremaining: 2h 14m 11s\n",
            "300:\tlearn: 1.9060722\ttest: 1.9174679\tbest: 1.9174679 (300)\ttotal: 22m 21s\tremaining: 2h 6m 13s\n",
            "400:\tlearn: 1.8691382\ttest: 1.8880761\tbest: 1.8880761 (400)\ttotal: 30m\tremaining: 1h 59m 39s\n",
            "500:\tlearn: 1.8395838\ttest: 1.8643409\tbest: 1.8643409 (500)\ttotal: 37m 30s\tremaining: 1h 52m 12s\n",
            "600:\tlearn: 1.8151475\ttest: 1.8460243\tbest: 1.8460243 (600)\ttotal: 44m 58s\tremaining: 1h 44m 41s\n",
            "700:\tlearn: 1.7934978\ttest: 1.8304926\tbest: 1.8304926 (700)\ttotal: 52m 37s\tremaining: 1h 37m 31s\n",
            "800:\tlearn: 1.7752331\ttest: 1.8168390\tbest: 1.8168390 (800)\ttotal: 1h 6s\tremaining: 1h 29m 57s\n",
            "900:\tlearn: 1.7578121\ttest: 1.8042019\tbest: 1.8042019 (900)\ttotal: 1h 7m 46s\tremaining: 1h 22m 39s\n",
            "1000:\tlearn: 1.7420747\ttest: 1.7942602\tbest: 1.7942602 (1000)\ttotal: 1h 15m 22s\tremaining: 1h 15m 13s\n",
            "1100:\tlearn: 1.7278024\ttest: 1.7852135\tbest: 1.7852135 (1100)\ttotal: 1h 22m 58s\tremaining: 1h 7m 44s\n",
            "1200:\tlearn: 1.7144287\ttest: 1.7770428\tbest: 1.7770428 (1200)\ttotal: 1h 30m 40s\tremaining: 1h 19s\n",
            "1300:\tlearn: 1.7024106\ttest: 1.7698713\tbest: 1.7698713 (1300)\ttotal: 1h 37m 58s\tremaining: 52m 38s\n",
            "1400:\tlearn: 1.6912368\ttest: 1.7630338\tbest: 1.7630338 (1400)\ttotal: 1h 45m 56s\tremaining: 45m 17s\n",
            "1500:\tlearn: 1.6797475\ttest: 1.7565963\tbest: 1.7565963 (1500)\ttotal: 1h 54m 7s\tremaining: 37m 56s\n",
            "1600:\tlearn: 1.6689105\ttest: 1.7508625\tbest: 1.7508625 (1600)\ttotal: 2h 1m 54s\tremaining: 30m 23s\n",
            "1700:\tlearn: 1.6593887\ttest: 1.7459419\tbest: 1.7459419 (1700)\ttotal: 2h 9m 7s\tremaining: 22m 41s\n"
          ]
        }
      ]
    },
    {
      "cell_type": "code",
      "metadata": {
        "id": "0_Al_fT_R61h"
      },
      "source": [
        "baseline_models = []\n",
        "\n",
        "# 10 models trained above cell\n",
        "\n",
        "\n",
        "model = catboost.CatBoostRegressor()\n",
        "model.load_model(f'{dir_path}/CBmodel1.cbm')\n",
        "baseline_models.append(model)\n",
        "model = catboost.CatBoostRegressor()\n",
        "model.load_model(f'{dir_path}/CBmodel2.cbm')\n",
        "baseline_models.append(model)\n",
        "model = catboost.CatBoostRegressor()\n",
        "model.load_model(f'{dir_path}/CBmodel3.cbm')\n",
        "baseline_models.append(model)\n",
        "model = catboost.CatBoostRegressor()\n",
        "model.load_model(f'{dir_path}/CBmodel4.cbm')\n",
        "baseline_models.append(model)\n",
        "model = catboost.CatBoostRegressor()\n",
        "model.load_model(f'{dir_path}/CBmodel5.cbm')\n",
        "baseline_models.append(model)\n",
        "model = catboost.CatBoostRegressor()\n",
        "model.load_model(f'{dir_path}/CBmodel6.cbm')\n",
        "baseline_models.append(model)\n",
        "model = catboost.CatBoostRegressor()\n",
        "model.load_model(f'{dir_path}/CBmodel7.cbm')\n",
        "baseline_models.append(model)\n",
        "model = catboost.CatBoostRegressor()\n",
        "model.load_model(f'{dir_path}/CBmodel8.cbm')\n",
        "baseline_models.append(model)\n",
        "model = catboost.CatBoostRegressor()\n",
        "model.load_model(f'{dir_path}/CBmodel9.cbm')\n",
        "baseline_models.append(model)"
      ],
      "execution_count": null,
      "outputs": []
    },
    {
      "cell_type": "code",
      "metadata": {
        "id": "kLPEuaVxTPUA"
      },
      "source": [
        "# Get ensemble of predictions for each data point\n",
        "import numpy as np\n",
        "\n",
        "def get_predictions(features_df, model):\n",
        "    '''\n",
        "    Calculates predictions on df features for specified model\n",
        "    \n",
        "    Return: array [num_samples x 2],\n",
        "        where\n",
        "            num_samples = number of rows in features_df\n",
        "            2 = [mean, variance]\n",
        "    \n",
        "    '''\n",
        "    return model.predict(features_df)\n",
        "\n",
        "\n",
        "def get_all_predictions(features_df, models_list):\n",
        "    '''\n",
        "    Return: array [ensemble_size x num_samples x 2],\n",
        "        where\n",
        "            ensemble_size = number of models in models_list\n",
        "            num_samples = number of rows in features_df\n",
        "            2 = [mean, variance]\n",
        "    '''\n",
        "    all_preds = []\n",
        "    for model in models_list:\n",
        "        preds = np.asarray(get_predictions(features_df, model))\n",
        "        all_preds.append(preds)\n",
        "    return np.stack(all_preds, axis=0)\n",
        "\n",
        "\n",
        "all_preds = get_all_predictions(X_dev, baseline_models)"
      ],
      "execution_count": null,
      "outputs": []
    },
    {
      "cell_type": "code",
      "metadata": {
        "colab": {
          "base_uri": "https://localhost:8080/"
        },
        "id": "BCGDoN5MUJA8",
        "outputId": "ca00d351-c7c1-432b-f347-8e3f735de083"
      },
      "source": [
        "# Predict on test set\n",
        "# test set RMSE\n",
        "from sklearn.metrics import mean_squared_error as MSE\n",
        "test_rmse = MSE(y_dev, preds) ** (1 / 2)\n",
        "# Print rmse\n",
        "print('RMSE test set: {:.2f}'.format(test_rmse))"
      ],
      "execution_count": null,
      "outputs": [
        {
          "name": "stdout",
          "output_type": "stream",
          "text": [
            "RMSE test set: 2.15\n"
          ]
        }
      ]
    },
    {
      "cell_type": "code",
      "metadata": {
        "id": "ew04zjZYyusn"
      },
      "source": [
        "\n",
        "# Choose any uncertainty measure to calculate uncertainty scores\n",
        "# This tutorial uses total variance as the uncertainty measure\n",
        "\n",
        "from uncertainty import ensemble_uncertainties_regression\n",
        "\n",
        "all_uncertainty = ensemble_uncertainties_regression(all_preds)\n",
        "uncertainties = all_uncertainty['tvar']"
      ],
      "execution_count": null,
      "outputs": []
    },
    {
      "cell_type": "code",
      "metadata": {
        "colab": {
          "base_uri": "https://localhost:8080/",
          "height": 296
        },
        "id": "w4VTlJhQviHm",
        "outputId": "b8160296-d775-474b-cb83-c4255549c55f"
      },
      "source": [
        "# 9 ensemble MSE retention curve\n",
        "from assessment import calc_uncertainty_regection_curve\n",
        "import matplotlib.pyplot as plt\n",
        "\n",
        "# MSE retention values\n",
        "rejection_mse = calc_uncertainty_regection_curve(errors, uncertainties)\n",
        "retention_mse = rejection_mse[::-1]\n",
        "\n",
        "retention_fractions = np.linspace(0,1,len(retention_mse))\n",
        "\n",
        "# plot\n",
        "plt.plot(retention_fractions, retention_mse)\n",
        "plt.ylabel('MSE')\n",
        "plt.xlabel(\"Retention Fraction\")\n",
        "plt.show()\n",
        "plt.clf()"
      ],
      "execution_count": null,
      "outputs": [
        {
          "output_type": "display_data",
          "data": {
            "image/png": "[encoded data removed]",
            "text/plain": [
              "<Figure size 432x288 with 1 Axes>"
            ]
          },
          "metadata": {
            "needs_background": "light"
          }
        },
        {
          "output_type": "display_data",
          "data": {
            "text/plain": [
              "<Figure size 432x288 with 0 Axes>"
            ]
          },
          "metadata": {}
        }
      ]
    },
    {
      "cell_type": "code",
      "metadata": {
        "colab": {
          "base_uri": "https://localhost:8080/",
          "height": 313
        },
        "id": "SHn-hgjuvu6U",
        "outputId": "169b8dcb-6eb6-4e3f-f316-6c4e75e28737"
      },
      "source": [
        "# 9 ensemble F1-score retention curve\n",
        "from assessment import f_beta_metrics\n",
        "\n",
        "# Use an acceptable error threshold of 1 degree\n",
        "thresh = 1.0\n",
        "\n",
        "# Get all metrics\n",
        "f_auc, f95, retention_f1 = f_beta_metrics(errors, uncertainties, thresh, beta=1.0)\n",
        "print(\"F1 score at 95% retention: \", f95)\n",
        "\n",
        "retention_fractions = np.linspace(0,1,len(retention_f1))\n",
        "\n",
        "# plot\n",
        "plt.plot(retention_fractions, retention_f1)\n",
        "plt.ylabel('F1')\n",
        "plt.xlabel(\"Retention Fraction\")\n",
        "plt.show()\n",
        "plt.clf()"
      ],
      "execution_count": null,
      "outputs": [
        {
          "output_type": "stream",
          "name": "stdout",
          "text": [
            "F1 score at 95% retention:  0.635693874178696\n"
          ]
        },
        {
          "output_type": "display_data",
          "data": {
            "image/png": "[encoded data removed]",
            "text/plain": [
              "<Figure size 432x288 with 1 Axes>"
            ]
          },
          "metadata": {
            "needs_background": "light"
          }
        },
        {
          "output_type": "display_data",
          "data": {
            "text/plain": [
              "<Figure size 432x288 with 0 Axes>"
            ]
          },
          "metadata": {}
        }
      ]
    },
    {
      "cell_type": "code",
      "metadata": {
        "id": "vDpstthh90Us"
      },
      "source": [
        "# Get ensemble predictions\n",
        "all_preds_mean = all_preds[:,:,0]\n",
        "avg_preds = np.squeeze(np.mean(all_preds_mean, axis=0))\n",
        "\n",
        "# Get target values\n",
        "targets = np.asarray(df_dev['fact_temperature'])\n",
        "\n",
        "# squared error\n",
        "errors = (avg_preds - targets) ** 2"
      ],
      "execution_count": null,
      "outputs": []
    },
    {
      "cell_type": "code",
      "metadata": {
        "colab": {
          "base_uri": "https://localhost:8080/",
          "height": 204
        },
        "id": "EWsiT31Wv5yH",
        "outputId": "3b7a50f4-cf8b-47d2-8437-820256be1d2b"
      },
      "source": [
        "#9\n",
        "# Prepare the ids\n",
        "ids = np.arange(1, len(df_dev) + 1)\n",
        "\n",
        "# Predictions are the mean predictions across the ensemble of models\n",
        "preds = np.mean(all_preds[:,:,0], axis=0)\n",
        "\n",
        "# The uncertainties have been calculated in the previous step\n",
        "\n",
        "# Store all the information to be submitted in a df\n",
        "df_submission = pd.DataFrame(data={\n",
        "        'ID' : ids,\n",
        "        'PRED' : preds,\n",
        "        'UNCERTAINTY' : uncertainties\n",
        "        })\n",
        "\n",
        "df_submission.head()"
      ],
      "execution_count": null,
      "outputs": [
        {
          "data": {
            "text/html": [
              "<div>\n",
              "<style scoped>\n",
              "    .dataframe tbody tr th:only-of-type {\n",
              "        vertical-align: middle;\n",
              "    }\n",
              "\n",
              "    .dataframe tbody tr th {\n",
              "        vertical-align: top;\n",
              "    }\n",
              "\n",
              "    .dataframe thead th {\n",
              "        text-align: right;\n",
              "    }\n",
              "</style>\n",
              "<table border=\"1\" class=\"dataframe\">\n",
              "  <thead>\n",
              "    <tr style=\"text-align: right;\">\n",
              "      <th></th>\n",
              "      <th>ID</th>\n",
              "      <th>PRED</th>\n",
              "      <th>UNCERTAINTY</th>\n",
              "    </tr>\n",
              "  </thead>\n",
              "  <tbody>\n",
              "    <tr>\n",
              "      <th>0</th>\n",
              "      <td>1</td>\n",
              "      <td>9.917762</td>\n",
              "      <td>1.566056</td>\n",
              "    </tr>\n",
              "    <tr>\n",
              "      <th>1</th>\n",
              "      <td>2</td>\n",
              "      <td>4.083052</td>\n",
              "      <td>1.698572</td>\n",
              "    </tr>\n",
              "    <tr>\n",
              "      <th>2</th>\n",
              "      <td>3</td>\n",
              "      <td>25.257063</td>\n",
              "      <td>1.441561</td>\n",
              "    </tr>\n",
              "    <tr>\n",
              "      <th>3</th>\n",
              "      <td>4</td>\n",
              "      <td>4.376450</td>\n",
              "      <td>2.058515</td>\n",
              "    </tr>\n",
              "    <tr>\n",
              "      <th>4</th>\n",
              "      <td>5</td>\n",
              "      <td>13.986514</td>\n",
              "      <td>2.665086</td>\n",
              "    </tr>\n",
              "  </tbody>\n",
              "</table>\n",
              "</div>"
            ],
            "text/plain": [
              "   ID       PRED  UNCERTAINTY\n",
              "0   1   9.917762     1.566056\n",
              "1   2   4.083052     1.698572\n",
              "2   3  25.257063     1.441561\n",
              "3   4   4.376450     2.058515\n",
              "4   5  13.986514     2.665086"
            ]
          },
          "execution_count": 29,
          "metadata": {},
          "output_type": "execute_result"
        }
      ]
    },
    {
      "cell_type": "code",
      "metadata": {
        "id": "snAOPRCywCO3"
      },
      "source": [
        "# 9 Save as csv\n",
        "out_file = '/content/drive/MyDrive/submissions/df_submission_9_ensemble.csv'\n",
        "df_submission.to_csv(out_file, index=False)"
      ],
      "execution_count": null,
      "outputs": []
    },
    {
      "cell_type": "markdown",
      "metadata": {
        "id": "Q9VCfjNc_hvT"
      },
      "source": [
        "###4.2) Lasso Regression"
      ]
    },
    {
      "cell_type": "code",
      "metadata": {
        "id": "MhKOm3oAOzSL"
      },
      "source": [
        "# Extract features and targets, and remove redundant meta-data\n",
        "X_train = train.iloc[:,6:]\n",
        "X_dev_in = dev_in.iloc[:,6:]\n",
        "y_train = train['fact_temperature']\n",
        "y_dev_in = dev_in['fact_temperature']"
      ],
      "execution_count": null,
      "outputs": []
    },
    {
      "cell_type": "code",
      "metadata": {
        "colab": {
          "base_uri": "https://localhost:8080/"
        },
        "id": "crJYgxXlBYaG",
        "outputId": "6f5da368-06c7-47f5-f735-785fccca607e"
      },
      "source": [
        "from sklearn import linear_model\n",
        "clf = linear_model.Lasso(alpha=0.1)\n",
        "clf.fit(X_train, y_train)"
      ],
      "execution_count": null,
      "outputs": [
        {
          "name": "stderr",
          "output_type": "stream",
          "text": [
            "/usr/local/lib/python3.7/dist-packages/sklearn/linear_model/_coordinate_descent.py:476: ConvergenceWarning: Objective did not converge. You might want to increase the number of iterations. Duality gap: 8080742.378655997, tolerance: 33273.20394143507\n",
            "  positive)\n"
          ]
        },
        {
          "data": {
            "text/plain": [
              "Lasso(alpha=0.1, copy_X=True, fit_intercept=True, max_iter=1000,\n",
              "      normalize=False, positive=False, precompute=False, random_state=None,\n",
              "      selection='cyclic', tol=0.0001, warm_start=False)"
            ]
          },
          "execution_count": 6,
          "metadata": {},
          "output_type": "execute_result"
        }
      ]
    },
    {
      "cell_type": "code",
      "metadata": {
        "colab": {
          "base_uri": "https://localhost:8080/"
        },
        "id": "Aiuq3i8BEDFG",
        "outputId": "b0d6f364-359e-4063-b78a-a0c25a7bb575"
      },
      "source": [
        "from sklearn.metrics import mean_squared_error as MSE\n",
        "pred_y = clf.predict(X_dev_in)\n",
        "# test set RMSE\n",
        "test_rmse = MSE(y_dev_in, pred_y) ** (1 / 2)\n",
        "  \n",
        "# Print rmse\n",
        "print('RMSE test set: {:.2f}'.format(test_rmse))"
      ],
      "execution_count": null,
      "outputs": [
        {
          "name": "stdout",
          "output_type": "stream",
          "text": [
            "RMSE test set: 2.24\n"
          ]
        }
      ]
    },
    {
      "cell_type": "markdown",
      "metadata": {
        "id": "IukW-iEFVoPI"
      },
      "source": [
        "RMSE for Lasso Regression: 2.24"
      ]
    },
    {
      "cell_type": "markdown",
      "metadata": {
        "id": "q9TWkEo5_5MM"
      },
      "source": [
        "###4.3) Elastic net Regression"
      ]
    },
    {
      "cell_type": "code",
      "metadata": {
        "id": "KkcfY74DQJTQ"
      },
      "source": [
        "# Extract features and targets, and remove redundant meta-data\n",
        "X_train = train.iloc[:,6:]\n",
        "X_dev_in = dev_in.iloc[:,6:]\n",
        "y_train = train['fact_temperature']\n",
        "y_dev_in = dev_in['fact_temperature']"
      ],
      "execution_count": null,
      "outputs": []
    },
    {
      "cell_type": "code",
      "metadata": {
        "id": "c99sl6EvAlsC"
      },
      "source": [
        "from sklearn.datasets import load_diabetes\n",
        "from sklearn.model_selection import train_test_split\n",
        "from sklearn.ensemble import ExtraTreesRegressor\n",
        "\n",
        "reg = ExtraTreesRegressor(n_estimators=100, random_state=0)\n",
        "reg.fit(X_train, y_train)\n",
        "\n",
        "from sklearn.linear_model import ElasticNet\n",
        "from sklearn.datasets import make_regression\n",
        "regr = ElasticNet(random_state=0)\n",
        "regr.fit(X_train, y_train)\n",
        "\n",
        "pred_y = regr.predict(X_dev_in)from sklearn.metrics import mean_squared_error as MSE\n",
        "# test set RMSE\n",
        "test_rmse = MSE(y_dev_in, pred_y) ** (1 / 2)\n",
        "  \n",
        "# Print rmse\n",
        "print('RMSE test set: {:.2f}'.format(test_rmse))\n",
        "\n",
        "#output RMSE test set: 11.73"
      ],
      "execution_count": null,
      "outputs": []
    },
    {
      "cell_type": "markdown",
      "metadata": {
        "id": "v-c2YkR4VZNv"
      },
      "source": [
        "RMSE for Elastic net Regression: 11.73"
      ]
    },
    {
      "cell_type": "markdown",
      "metadata": {
        "id": "ra5U1qXfEm3c"
      },
      "source": [
        "###4.3) Ridge Regressor"
      ]
    },
    {
      "cell_type": "code",
      "metadata": {
        "colab": {
          "base_uri": "https://localhost:8080/"
        },
        "id": "UWw0iyMh6yxj",
        "outputId": "5a0573aa-7a82-48b1-8931-3fcddda61962"
      },
      "source": [
        "reg = linear_model.Ridge(alpha=500)\n",
        "reg.fit(df_train, y_train)\n",
        "print(reg.coef_)\n",
        "print(reg.intercept_)"
      ],
      "execution_count": null,
      "outputs": [
        {
          "name": "stdout",
          "output_type": "stream",
          "text": [
            "[-3.14700399e-03  1.04370062e-02  3.43928269e-02  2.46875499e-03\n",
            "  1.11981780e-01  5.96173867e-02  4.75189034e-01 -5.47877420e-02\n",
            " -1.14405131e-01  5.84478943e-04 -6.64817003e-03 -5.28045754e-03\n",
            "  5.37304601e-02  1.62880621e-02 -4.58209883e-02  5.87778530e-02\n",
            " -2.12730753e-05  4.19155493e-03  9.68717468e-04 -3.54958923e-03\n",
            " -6.19081730e-01 -2.52443818e-01 -1.11522283e-03  3.32877313e-02\n",
            " -4.15401805e-02 -7.62253561e-03  1.16125860e-02 -3.20296366e-03\n",
            " -3.52050815e-03 -6.12582249e-03  5.81440489e-04 -6.97630348e-04\n",
            "  4.59516624e-03  8.87046205e-02 -4.16998241e-02  8.99898167e-04\n",
            "  9.18080599e-04 -1.57425291e-02 -1.69266200e-02  8.22317073e-04\n",
            " -1.02377507e-03 -5.09524444e-04  2.94788023e-03 -1.89392501e-03\n",
            " -4.91707061e-03  7.06503423e-03  7.20958747e-03  5.61504858e-04\n",
            "  3.34505459e-04  2.04749311e-02  9.68888355e-05 -3.95273856e-02\n",
            " -4.21441056e-02 -9.40715077e-05  2.28643609e-05  8.02593080e-04\n",
            "  3.40322995e-02  1.09529387e-03 -6.11635266e-02 -2.48345751e-02\n",
            "  1.65763166e-01 -2.57785754e-03 -3.57827669e-02  1.42084827e-02\n",
            "  1.06602532e-03 -6.96937087e-06 -6.96684437e-03 -2.67635087e-03\n",
            "  2.64938561e-03  4.75911587e-03  2.27181356e-02  1.52501581e-02\n",
            " -1.43825511e-02  2.34370408e-02 -8.27115076e-03 -1.03517513e-02\n",
            "  9.73323976e-03 -3.95928957e-03  1.13538923e-02  2.47634893e-03\n",
            "  1.33937270e-02 -1.52937302e-03 -4.75311631e-02  2.28642126e-02\n",
            "  1.90404005e-01  7.17481149e-02  3.32903776e-01 -9.15939016e-02\n",
            " -9.31113729e-05 -6.64845731e-04 -8.58599325e-03 -1.56316864e-04\n",
            "  1.90537241e-03  1.43909998e-03  8.57835062e-03  6.32909156e-02\n",
            " -1.74500748e-02  9.05541870e-05 -1.75257590e+00  3.68305238e-02\n",
            "  3.43997889e-02 -1.45103386e-02 -8.31816270e-02  1.37445277e-01\n",
            "  6.32909155e-02 -8.07409888e-02  5.58548854e-03  4.47026574e-03\n",
            " -6.03011580e-02 -2.70134264e-02  1.06207611e-01  6.46674303e-02\n",
            "  9.77763897e-03  2.15510336e-03  5.35964900e-02 -3.83205730e-03\n",
            " -6.75694701e-03  5.18586106e-03]\n",
            "-225.0211325421446\n"
          ]
        }
      ]
    },
    {
      "cell_type": "code",
      "metadata": {
        "colab": {
          "base_uri": "https://localhost:8080/"
        },
        "id": "e5Fsqptf62N9",
        "outputId": "12597d28-e098-49e7-9f63-f4c1952fe7db"
      },
      "source": [
        "# Predict on test set\n",
        "pred_y = reg.predict(df_dev_in)\n",
        "print(pred_y)\n",
        "# test set RMSE\n",
        "test_rmse = MSE(y_dev, pred_y) ** (1 / 2)\n",
        "# Print rmse\n",
        "print('RMSE test set: {:.2f}'.format(test_rmse))"
      ],
      "execution_count": null,
      "outputs": [
        {
          "name": "stdout",
          "output_type": "stream",
          "text": [
            "[12.29621889  4.32361761 23.08505664 ... 17.88283932 26.03285738\n",
            " 10.96724464]\n",
            "RMSE test set: 14.24\n"
          ]
        }
      ]
    },
    {
      "cell_type": "markdown",
      "metadata": {
        "id": "5NsMpISW-ASU"
      },
      "source": [
        "RMSE for RigdeRegressor : **14.24**"
      ]
    },
    {
      "cell_type": "code",
      "metadata": {
        "id": "F8vfp6gOVI-Z"
      },
      "source": [
        ""
      ],
      "execution_count": null,
      "outputs": []
    },
    {
      "cell_type": "code",
      "metadata": {
        "colab": {
          "base_uri": "https://localhost:8080/",
          "height": 700
        },
        "id": "ndT2qN_-FihC",
        "outputId": "5aeca314-531e-4937-862d-624d29e12c48"
      },
      "source": [
        "# Plot learning curves\n",
        "from yellowbrick.model_selection import LearningCurve\n",
        "visualizer = LearningCurve(reg, scoring='neg_root_mean_squared_error')\n",
        "visualizer.fit(df_train, y_train)\n",
        "visualizer.show()\n"
      ],
      "execution_count": null,
      "outputs": [
        {
          "output_type": "stream",
          "name": "stderr",
          "text": [
            "/usr/local/lib/python3.7/dist-packages/sklearn/utils/deprecation.py:144: FutureWarning: The sklearn.metrics.classification module is  deprecated in version 0.22 and will be removed in version 0.24. The corresponding classes / functions should instead be imported from sklearn.metrics. Anything that cannot be imported from sklearn.metrics is now part of the private API.\n",
            "  warnings.warn(message, FutureWarning)\n",
            "/usr/local/lib/python3.7/dist-packages/sklearn/base.py:197: FutureWarning: From version 0.24, get_params will raise an AttributeError if a parameter cannot be retrieved as an instance attribute. Previously it would return None.\n",
            "  FutureWarning)\n"
          ]
        },
        {
          "output_type": "error",
          "ename": "AttributeError",
          "evalue": "ignored",
          "traceback": [
            "\u001b[0;31m---------------------------------------------------------------------------\u001b[0m",
            "\u001b[0;31mAttributeError\u001b[0m                            Traceback (most recent call last)",
            "\u001b[0;32m<ipython-input-7-d793aafcaed5>\u001b[0m in \u001b[0;36m<module>\u001b[0;34m()\u001b[0m\n\u001b[1;32m      3\u001b[0m \u001b[0mvisualizer\u001b[0m \u001b[0;34m=\u001b[0m \u001b[0mLearningCurve\u001b[0m\u001b[0;34m(\u001b[0m\u001b[0mreg\u001b[0m\u001b[0;34m,\u001b[0m \u001b[0mscoring\u001b[0m\u001b[0;34m=\u001b[0m\u001b[0;34m'neg_root_mean_squared_error'\u001b[0m\u001b[0;34m)\u001b[0m\u001b[0;34m\u001b[0m\u001b[0;34m\u001b[0m\u001b[0m\n\u001b[1;32m      4\u001b[0m \u001b[0mvisualizer\u001b[0m\u001b[0;34m.\u001b[0m\u001b[0mfit\u001b[0m\u001b[0;34m(\u001b[0m\u001b[0mdf_train\u001b[0m\u001b[0;34m,\u001b[0m \u001b[0my_train\u001b[0m\u001b[0;34m)\u001b[0m\u001b[0;34m\u001b[0m\u001b[0;34m\u001b[0m\u001b[0m\n\u001b[0;32m----> 5\u001b[0;31m \u001b[0mvisualizer\u001b[0m\u001b[0;34m.\u001b[0m\u001b[0mshow\u001b[0m\u001b[0;34m(\u001b[0m\u001b[0;34m)\u001b[0m\u001b[0;34m\u001b[0m\u001b[0;34m\u001b[0m\u001b[0m\n\u001b[0m",
            "\u001b[0;32m/usr/local/lib/python3.7/dist-packages/yellowbrick/utils/wrapper.py\u001b[0m in \u001b[0;36m__getattr__\u001b[0;34m(self, attr)\u001b[0m\n\u001b[1;32m     40\u001b[0m     \u001b[0;32mdef\u001b[0m \u001b[0m__getattr__\u001b[0m\u001b[0;34m(\u001b[0m\u001b[0mself\u001b[0m\u001b[0;34m,\u001b[0m \u001b[0mattr\u001b[0m\u001b[0;34m)\u001b[0m\u001b[0;34m:\u001b[0m\u001b[0;34m\u001b[0m\u001b[0;34m\u001b[0m\u001b[0m\n\u001b[1;32m     41\u001b[0m         \u001b[0;31m# proxy to the wrapped object\u001b[0m\u001b[0;34m\u001b[0m\u001b[0;34m\u001b[0m\u001b[0;34m\u001b[0m\u001b[0m\n\u001b[0;32m---> 42\u001b[0;31m         \u001b[0;32mreturn\u001b[0m \u001b[0mgetattr\u001b[0m\u001b[0;34m(\u001b[0m\u001b[0mself\u001b[0m\u001b[0;34m.\u001b[0m\u001b[0m_wrapped\u001b[0m\u001b[0;34m,\u001b[0m \u001b[0mattr\u001b[0m\u001b[0;34m)\u001b[0m\u001b[0;34m\u001b[0m\u001b[0;34m\u001b[0m\u001b[0m\n\u001b[0m",
            "\u001b[0;31mAttributeError\u001b[0m: 'Ridge' object has no attribute 'show'"
          ]
        },
        {
          "output_type": "display_data",
          "data": {
            "image/png": "[encoded data removed]",
            "text/plain": [
              "<Figure size 576x396 with 1 Axes>"
            ]
          },
          "metadata": {}
        }
      ]
    },
    {
      "cell_type": "markdown",
      "metadata": {
        "id": "2TBvOH29DioY"
      },
      "source": [
        "###4.4) HistGradientBoostRegressor"
      ]
    },
    {
      "cell_type": "code",
      "metadata": {
        "id": "BbKeoX9z9X3d"
      },
      "source": [
        "from sklearn import linear_model\n",
        "from sklearn.model_selection import train_test_split\n",
        "from sklearn.metrics import mean_squared_error as MSE\n",
        "from sklearn.ensemble import HistGradientBoostingRegressor"
      ],
      "execution_count": null,
      "outputs": []
    },
    {
      "cell_type": "code",
      "metadata": {
        "id": "6DMIlZPy9gad"
      },
      "source": [
        "ensemble_size = 10\n",
        "trained_models = []\n",
        "for seed in range(ensemble_size):\n",
        "    model = HistGradientBoostingRegressor(\n",
        "        loss='squared_error', learning_rate=0.1, max_iter=100, max_depth=8)\n",
        "    \n",
        "    print(f'\\n Model index: {seed}\\n')\n",
        "    \n",
        "    model.fit(\n",
        "        df_train,\n",
        "        y_train\n",
        "        )\n",
        "    \n",
        "    trained_models.append(model)"
      ],
      "execution_count": null,
      "outputs": []
    },
    {
      "cell_type": "code",
      "metadata": {
        "id": "RloUKeqN9pWE"
      },
      "source": [
        "# Predict on test set\n",
        "pred_y = trained_models[4].predict(df_dev_in)\n",
        "# test set RMSE\n",
        "test_rmse = MSE(y_dev, pred_y) ** (1 / 2)\n",
        "# Print rmse\n",
        "print('RMSE test set: {:.2f}'.format(test_rmse))"
      ],
      "execution_count": null,
      "outputs": []
    },
    {
      "cell_type": "code",
      "metadata": {
        "id": "Pqt1dFk59pWF"
      },
      "source": [
        "# Get ensemble of predictions for each data point\n",
        "\n",
        "import numpy as np\n",
        "\n",
        "def get_predictions(features_df, model):\n",
        "    '''\n",
        "    Calculates predictions on df features for specified model\n",
        "    \n",
        "    Return: array [num_samples x 2],\n",
        "        where\n",
        "            num_samples = number of rows in features_df\n",
        "            2 = [mean, variance]\n",
        "    \n",
        "    '''\n",
        "    return model.predict(features_df)\n",
        "\n",
        "\n",
        "def get_all_predictions(features_df, models_list):\n",
        "    '''\n",
        "    Return: array [ensemble_size x num_samples x 2],\n",
        "        where\n",
        "            ensemble_size = number of models in models_list\n",
        "            num_samples = number of rows in features_df\n",
        "            2 = [mean, variance]\n",
        "    '''\n",
        "    all_preds = []\n",
        "    for model in models_list:\n",
        "        preds = np.asarray(get_predictions(features_df, model))\n",
        "        all_preds.append(preds)\n",
        "    return np.stack(all_preds, axis=0)\n",
        "\n",
        "\n",
        "all_preds = get_all_predictions(df_dev_in, trained_models)"
      ],
      "execution_count": null,
      "outputs": []
    },
    {
      "cell_type": "code",
      "metadata": {
        "id": "Vh2olb3X9pWF"
      },
      "source": [
        "uncertainties = np.var(all_preds[:, :], axis=0)"
      ],
      "execution_count": null,
      "outputs": []
    },
    {
      "cell_type": "code",
      "metadata": {
        "id": "pNLUX1xH9pWG"
      },
      "source": [
        "# Get ensemble predictions\n",
        "all_preds_mean = all_preds[:,:]\n",
        "avg_preds = np.squeeze(np.mean(all_preds_mean, axis=0))\n",
        "\n",
        "# Get target values\n",
        "targets = np.asarray(y_dev)\n",
        "\n",
        "# squared error\n",
        "errors = (avg_preds - targets) ** 2"
      ],
      "execution_count": null,
      "outputs": []
    },
    {
      "cell_type": "code",
      "metadata": {
        "id": "CRSI_3NT9pWG"
      },
      "source": [
        "# MSE retention curve\n",
        "from assessment import calc_uncertainty_regection_curve\n",
        "import matplotlib.pyplot as plt\n",
        "\n",
        "# MSE retention values\n",
        "rejection_mse = calc_uncertainty_regection_curve(errors, uncertainties)\n",
        "retention_mse = rejection_mse[::-1]\n",
        "\n",
        "retention_fractions = np.linspace(0,1,len(retention_mse))\n",
        "\n",
        "# plot\n",
        "plt.plot(retention_fractions, retention_mse)\n",
        "plt.ylabel('MSE')\n",
        "plt.xlabel(\"Retention Fraction\")\n",
        "plt.show()\n",
        "plt.clf()"
      ],
      "execution_count": null,
      "outputs": []
    },
    {
      "cell_type": "code",
      "metadata": {
        "id": "obKwZ0of9pWG"
      },
      "source": [
        "# F1-score retention curve\n",
        "from assessment import f_beta_metrics\n",
        "\n",
        "# Use an acceptable error threshold of 1 degree\n",
        "thresh = 1.0\n",
        "\n",
        "# Get all metrics\n",
        "f_auc, f95, retention_f1 = f_beta_metrics(errors, uncertainties, thresh, beta=1.0)\n",
        "print(\"F1 score at 95% retention: \", f95)\n",
        "\n",
        "retention_fractions = np.linspace(0,1,len(retention_f1))\n",
        "\n",
        "# plot\n",
        "plt.plot(retention_fractions, retention_f1)\n",
        "plt.ylabel('F1')\n",
        "plt.xlabel(\"Retention Fraction\")\n",
        "plt.show()\n",
        "plt.clf()"
      ],
      "execution_count": null,
      "outputs": []
    },
    {
      "cell_type": "code",
      "metadata": {
        "id": "TYt-_GHD9pWH"
      },
      "source": [
        "# Prepare the ids\n",
        "ids = np.arange(1, len(df_dev_in) + 1)\n",
        "\n",
        "# Predictions are the mean predictions across the ensemble of models\n",
        "preds = np.mean(all_preds[:,:], axis=0)\n",
        "\n",
        "# The uncertainties have been calculated in the previous step\n",
        "\n",
        "# Store all the information to be submitted in a df\n",
        "df_submission = pd.DataFrame(data={\n",
        "        'ID' : ids,\n",
        "        'PRED' : preds,\n",
        "        'UNCERTAINTY' : uncertainties\n",
        "        })\n",
        "\n",
        "df_submission.head()"
      ],
      "execution_count": null,
      "outputs": []
    },
    {
      "cell_type": "markdown",
      "metadata": {
        "id": "bZCq1C8h9Avz"
      },
      "source": [
        "#5)Data Preprocessing 2\n"
      ]
    },
    {
      "cell_type": "markdown",
      "metadata": {
        "id": "EHnoNugH_aPK"
      },
      "source": [
        "###5.1)Normalization the datasets"
      ]
    },
    {
      "cell_type": "code",
      "metadata": {
        "id": "85QKDA3x9JZa"
      },
      "source": [
        "X_train_norm = train.copy()\n",
        "X_dev_in_norm = dev_in.copy()\n",
        "X_dev_out_norm = dev_out.copy()\n",
        "\n",
        "X_train_norm.drop(['climate','fact_temperature'], axis = 1 ,inplace=True )\n",
        "X_dev_in_norm.drop(['climate','fact_temperature'], axis = 1 ,inplace=True )\n",
        "X_dev_out_norm.drop(['climate','fact_temperature'], axis = 1 ,inplace=True )"
      ],
      "execution_count": null,
      "outputs": []
    },
    {
      "cell_type": "code",
      "metadata": {
        "id": "NeIxSJzV9QkZ"
      },
      "source": [
        "# apply the z-score method in Pandas using the .mean() and .std() methods\n",
        "def z_score(df):\n",
        "    # copy the dataframe\n",
        "    df_std = df.copy()\n",
        "    # apply the z-score method\n",
        "    for column in df_std.columns:\n",
        "        df_std[column] = (df_std[column] - df_std[column].mean()) / df_std[column].std()\n",
        "        \n",
        "    return df_std\n",
        "    \n",
        "# call the z_score function\n",
        "X_train_norm = z_score(X_train_norm)\n",
        "X_dev_in_norm = z_score(X_dev_in_norm)\n",
        "X_dev_out_norm = z_score(X_dev_out_norm)"
      ],
      "execution_count": null,
      "outputs": []
    },
    {
      "cell_type": "code",
      "metadata": {
        "id": "AlXvc0Lc9hF9"
      },
      "source": [
        "X_train_norm.insert(loc=3, column='fact_temperature', value = df_train['fact_temperature'])\n",
        "X_dev_in_norm.insert(loc=3, column='fact_temperature', value = df_dev_in['fact_temperature'])\n",
        "X_dev_out_norm.insert(loc=3, column='fact_temperature', value = df_dev_out['fact_temperature'])\n",
        "\n",
        "X_train_norm.insert(loc=5, column='climate', value = df_train['climate'])\n",
        "X_dev_in_norm.insert(loc=5, column='climate', value = df_dev_in['climate'])\n",
        "X_dev_out_norm.insert(loc=5, column='climate', value = df_dev_out['climate'])"
      ],
      "execution_count": null,
      "outputs": []
    },
    {
      "cell_type": "code",
      "metadata": {
        "id": "TNorbp4C9pBK"
      },
      "source": [
        "# saving the dataframe\n",
        "X_train_norm.to_csv(r'/content/drive/MyDrive/normalized/df_train5.csv', index=False)\n",
        "X_dev_in_norm.to_csv(r'/content/drive/MyDrive/normalized/df_dev_in5.csv', index=False)\n",
        "X_dev_out_norm.to_csv(r'/content/drive/MyDrive/normalized/df_dev_out5.csv', index=False)"
      ],
      "execution_count": null,
      "outputs": []
    },
    {
      "cell_type": "markdown",
      "metadata": {
        "id": "HPk3bMQ9DHn6"
      },
      "source": [
        "\n",
        "\n",
        "#6) Model building ( Preprocesing Data 2 ) "
      ]
    },
    {
      "cell_type": "markdown",
      "metadata": {
        "id": "BMCx847yTfxY"
      },
      "source": [
        "### 6.1)Catboost Regressor"
      ]
    },
    {
      "cell_type": "code",
      "metadata": {
        "id": "9oIW3hSJviwV"
      },
      "source": [
        "# Set training hyperparameters (note these are dummy hyperparameters - you will need to select your own)\n",
        "ensemble_size = 1\n",
        "depth = 8\n",
        "iterations = 500\n",
        "learning_rate = 0.3"
      ],
      "execution_count": null,
      "outputs": []
    },
    {
      "cell_type": "code",
      "metadata": {
        "id": "w0WD1gDYlvT1"
      },
      "source": [
        "# Train ensemble of models\n",
        "\n",
        "import catboost\n",
        "\n",
        "trained_models = []\n",
        "for seed in range(ensemble_size):\n",
        "    \n",
        "    model = catboost.CatBoostRegressor(\n",
        "        learning_rate = learning_rate,\n",
        "        iterations = iterations,\n",
        "        depth = depth,\n",
        "        loss_function = 'RMSEWithUncertainty',\n",
        "        eval_metric = 'RMSE',\n",
        "        random_seed = seed)\n",
        "    \n",
        "    print(f'\\n Model index: {seed}\\n')\n",
        "    \n",
        "    model.fit(\n",
        "        X_train,\n",
        "        y_train,\n",
        "        verbose = 100,\n",
        "        eval_set = (X_dev_in, y_dev_in))\n",
        "    \n",
        "    trained_models.append(model)\n"
      ],
      "execution_count": null,
      "outputs": []
    },
    {
      "cell_type": "code",
      "metadata": {
        "colab": {
          "base_uri": "https://localhost:8080/"
        },
        "id": "VcT6GYEgO1Nx",
        "outputId": "72b552a5-fb64-47e9-9151-12253eca0a39"
      },
      "source": [
        "# Predict on test set\n",
        "from sklearn.metrics import mean_squared_error as MSE\n",
        "\n",
        "pred_y = trained_models[0].predict(X_dev)\n",
        "# test set RMSE\n",
        "test_rmse = MSE(y_dev, pred_y[:,0:1]) ** (1 / 2)\n",
        "# Print rmse\n",
        "print('RMSE test set: {:.2f}'.format(test_rmse))"
      ],
      "execution_count": null,
      "outputs": [
        {
          "output_type": "stream",
          "name": "stdout",
          "text": [
            "RMSE test set: 4.35\n"
          ]
        }
      ]
    },
    {
      "cell_type": "markdown",
      "metadata": {
        "id": "JGoGwhN5DOCY"
      },
      "source": [
        "###6.2) Ridge Regressor"
      ]
    },
    {
      "cell_type": "code",
      "metadata": {
        "id": "FcwPccDw5ACL"
      },
      "source": [
        "from sklearn import linear_model\n",
        "from sklearn.model_selection import train_test_split\n",
        "from sklearn.metrics import mean_squared_error as MSE"
      ],
      "execution_count": null,
      "outputs": []
    },
    {
      "cell_type": "code",
      "metadata": {
        "id": "aTrl-Y3vZ27b"
      },
      "source": [
        "df_dev_in = pd.read_csv('/content/drive/MyDrive/normalized/df_dev_in5.csv')\n",
        "df_dev_out = pd.read_csv('/content/drive/MyDrive/normalized/df_dev_out5.csv')\n",
        "df_train = pd.read_csv('/content/drive/MyDrive/normalized/df_train5.csv')"
      ],
      "execution_count": null,
      "outputs": []
    },
    {
      "cell_type": "code",
      "metadata": {
        "colab": {
          "base_uri": "https://localhost:8080/"
        },
        "id": "unMZzCtV77FU",
        "outputId": "125c30af-cb4b-4a84-c53e-ffa0d3842f8e"
      },
      "source": [
        "reg = linear_model.Ridge(alpha=0.01)\n",
        "reg.fit(df_train, y_train)\n",
        "print(reg.coef_)\n",
        "print(reg.intercept_)\n"
      ],
      "execution_count": null,
      "outputs": [
        {
          "name": "stdout",
          "output_type": "stream",
          "text": [
            "[-1.60087134e+00  3.92940637e-01  3.28422229e-01  8.91321884e-02\n",
            "  8.94682101e-01  2.35874292e-01  5.01084361e+00 -7.49892177e-01\n",
            " -8.22329810e-01  5.95754065e-03 -6.92258045e-02 -1.82138347e-01\n",
            "  2.45689174e-01  2.71031159e-01 -1.78464945e-01  1.88206133e-01\n",
            "  2.87266182e-03  5.05385616e-02  2.02698240e-02  7.00490386e-03\n",
            " -2.31775918e-01 -5.39870419e-02  1.51298684e-01  2.20084259e-02\n",
            "  1.07207723e-02  3.94961027e-03  2.52912873e-02 -2.76447136e-02\n",
            " -3.91095044e-03 -7.95667565e-02 -2.35647221e-03 -1.26864228e-02\n",
            "  3.84629092e-02  2.50209849e-01 -1.44919611e-01  5.94235439e-03\n",
            "  8.78664873e-03 -9.02608497e-02 -9.07469254e-02  4.73117856e+00\n",
            " -5.90221077e+00 -2.80624632e-01 -3.42876925e-01 -3.32861007e-01\n",
            " -3.77443500e-01  8.63505192e-01  3.43937164e-01  1.45846869e-02\n",
            "  9.91347720e-03  2.32294478e+00  2.80249977e-01 -4.52265348e-01\n",
            " -9.47309571e-02 -8.23362851e-02  2.58417846e-03  1.20974070e-02\n",
            "  7.29972899e-01  8.34569548e-02 -3.27491892e-02 -1.14817200e+00\n",
            "  4.48735204e-02 -8.57360960e-02 -2.90638631e-01  6.59324206e-02\n",
            "  8.40850324e-03 -8.68690006e-04 -4.74351855e-02 -2.52143371e-02\n",
            "  3.00810828e-02  2.80301669e-02  8.56692707e-02  1.12857922e-01\n",
            " -1.03532113e-01  1.65359124e-01 -5.48204054e-02 -4.87779339e-02\n",
            "  6.65782545e-02 -2.41635661e-02  1.10904041e-01  4.15769161e-02\n",
            "  9.43377462e-02  1.23517053e-02 -4.48560170e-01  1.60012884e-01\n",
            "  2.07436690e+00  2.10442709e-01  3.34872578e+00 -9.91861068e-01\n",
            " -2.70036022e-01  1.39872000e-02 -2.40634149e-01  2.40341567e-02\n",
            "  2.82370292e-02 -1.14695841e-02  2.25122984e-02  3.60998644e-01\n",
            "  3.44308930e-01  4.77447126e-01 -3.91750184e-01  1.16938785e-01\n",
            "  1.23035734e-01 -1.10766367e-02 -5.52747774e-03  5.54998063e-03\n",
            "  3.60998260e-01 -1.46092255e-01 -2.27964111e+00 -1.12690876e-01\n",
            " -2.89348554e-01 -9.08579573e-03 -7.99697975e-02 -1.76841779e-03\n",
            " -5.46870571e-02 -5.56187119e-03  6.83633120e-02  3.33627495e-02\n",
            " -1.17682739e-01  1.56082945e-01]\n",
            "15.030736292113763\n"
          ]
        }
      ]
    },
    {
      "cell_type": "code",
      "metadata": {
        "colab": {
          "base_uri": "https://localhost:8080/"
        },
        "id": "cfDQxjCCCz5X",
        "outputId": "575b1409-32a0-45a7-aceb-47f7389ca794"
      },
      "source": [
        "# Predict on test set\n",
        "pred_y = reg.predict(df_dev_in)\n",
        "# test set RMSE\n",
        "test_rmse = MSE(y_dev, pred_y) ** (1 / 2)\n",
        "# Print rmse\n",
        "print('RMSE test set: {:.2f}'.format(test_rmse))"
      ],
      "execution_count": null,
      "outputs": [
        {
          "name": "stdout",
          "output_type": "stream",
          "text": [
            "RMSE test set: 4.86\n"
          ]
        }
      ]
    },
    {
      "cell_type": "markdown",
      "metadata": {
        "id": "ijwumPeF-Pj9"
      },
      "source": [
        "RMSE for RigdeRegressor : **4.86**"
      ]
    },
    {
      "cell_type": "markdown",
      "metadata": {
        "id": "2vDzh_p07shI"
      },
      "source": [
        "###6.3) HistGradientBoost Regressor"
      ]
    },
    {
      "cell_type": "code",
      "metadata": {
        "id": "0cVKtdFgZ5Qe"
      },
      "source": [
        "df_dev_in = pd.read_csv('/content/drive/MyDrive/normalized/df_dev_in5.csv')\n",
        "df_dev_out = pd.read_csv('/content/drive/MyDrive/normalized/df_dev_out5.csv')\n",
        "df_train = pd.read_csv('/content/drive/MyDrive/normalized/df_train5.csv')"
      ],
      "execution_count": null,
      "outputs": []
    },
    {
      "cell_type": "code",
      "metadata": {
        "id": "MZxftHk-cBcj"
      },
      "source": [
        "df_dev_in = pd.concat([df_dev_in, df_dev_out])\n",
        "y_dev = df_dev_in['fact_temperature']\n",
        "df_dev_in = df_dev_in.iloc[:,6:]\n",
        "y_train = df_train['fact_temperature']\n",
        "df_train = df_train.iloc[:,6:]"
      ],
      "execution_count": null,
      "outputs": []
    },
    {
      "cell_type": "code",
      "metadata": {
        "colab": {
          "base_uri": "https://localhost:8080/"
        },
        "id": "hOgyk5t-2CjR",
        "outputId": "c810cfe4-5a26-4dab-fea8-56908b388fba"
      },
      "source": [
        "ensemble_size = 10\n",
        "trained_models = []\n",
        "for seed in range(ensemble_size):\n",
        "    model = HistGradientBoostingRegressor(\n",
        "        loss='squared_error', learning_rate=0.1, max_iter=100, max_depth=8)\n",
        "    \n",
        "    print(f'\\n Model index: {seed}\\n')\n",
        "    \n",
        "    model.fit(\n",
        "        df_train,\n",
        "        y_train\n",
        "        )\n",
        "    \n",
        "    trained_models.append(model)"
      ],
      "execution_count": null,
      "outputs": [
        {
          "name": "stdout",
          "output_type": "stream",
          "text": [
            "\n",
            " Model index: 0\n",
            "\n",
            "\n",
            " Model index: 1\n",
            "\n",
            "\n",
            " Model index: 2\n",
            "\n",
            "\n",
            " Model index: 3\n",
            "\n",
            "\n",
            " Model index: 4\n",
            "\n",
            "\n",
            " Model index: 5\n",
            "\n",
            "\n",
            " Model index: 6\n",
            "\n",
            "\n",
            " Model index: 7\n",
            "\n",
            "\n",
            " Model index: 8\n",
            "\n",
            "\n",
            " Model index: 9\n",
            "\n"
          ]
        }
      ]
    },
    {
      "cell_type": "code",
      "metadata": {
        "colab": {
          "base_uri": "https://localhost:8080/"
        },
        "id": "2IEvfbU18myh",
        "outputId": "20b6d0e4-3cbd-49b8-b8b0-94addb0f2000"
      },
      "source": [
        "# Predict on test set\n",
        "pred_y = trained_models[8].predict(df_dev_in)\n",
        "# test set RMSE\n",
        "test_rmse = MSE(y_dev, pred_y) ** (1 / 2)\n",
        "# Print rmse\n",
        "print('RMSE test set: {:.2f}'.format(test_rmse))"
      ],
      "execution_count": null,
      "outputs": [
        {
          "name": "stdout",
          "output_type": "stream",
          "text": [
            "RMSE test set: 3.85\n"
          ]
        }
      ]
    },
    {
      "cell_type": "code",
      "metadata": {
        "id": "4M0YeTgDFqMl"
      },
      "source": [
        "# Get ensemble of predictions for each data point\n",
        "\n",
        "import numpy as np\n",
        "\n",
        "def get_predictions(features_df, model):\n",
        "    '''\n",
        "    Calculates predictions on df features for specified model\n",
        "    \n",
        "    Return: array [num_samples x 2],\n",
        "        where\n",
        "            num_samples = number of rows in features_df\n",
        "            2 = [mean, variance]\n",
        "    \n",
        "    '''\n",
        "    return model.predict(features_df)\n",
        "\n",
        "\n",
        "def get_all_predictions(features_df, models_list):\n",
        "    '''\n",
        "    Return: array [ensemble_size x num_samples x 2],\n",
        "        where\n",
        "            ensemble_size = number of models in models_list\n",
        "            num_samples = number of rows in features_df\n",
        "            2 = [mean, variance]\n",
        "    '''\n",
        "    all_preds = []\n",
        "    for model in models_list:\n",
        "        preds = np.asarray(get_predictions(features_df, model))\n",
        "        all_preds.append(preds)\n",
        "    return np.stack(all_preds, axis=0)\n",
        "\n",
        "\n",
        "all_preds = get_all_predictions(df_dev_in, trained_models)"
      ],
      "execution_count": null,
      "outputs": []
    },
    {
      "cell_type": "code",
      "metadata": {
        "id": "PQ7GMnS5Berh"
      },
      "source": [
        "uncertainties = np.var(all_preds[:, :], axis=0)"
      ],
      "execution_count": null,
      "outputs": []
    },
    {
      "cell_type": "code",
      "metadata": {
        "id": "QWuP9AD2CWhw"
      },
      "source": [
        "# Get ensemble predictions\n",
        "all_preds_mean = all_preds[:,:]\n",
        "avg_preds = np.squeeze(np.mean(all_preds_mean, axis=0))\n",
        "\n",
        "# Get target values\n",
        "targets = np.asarray(y_dev)\n",
        "\n",
        "# squared error\n",
        "errors = (avg_preds - targets) ** 2"
      ],
      "execution_count": null,
      "outputs": []
    },
    {
      "cell_type": "code",
      "metadata": {
        "colab": {
          "base_uri": "https://localhost:8080/",
          "height": 296
        },
        "id": "KpztT8cJCp_P",
        "outputId": "5c13b5b1-406d-41a9-be60-80a540ce585e"
      },
      "source": [
        "# MSE retention curve\n",
        "from assessment import calc_uncertainty_regection_curve\n",
        "import matplotlib.pyplot as plt\n",
        "\n",
        "# MSE retention values\n",
        "rejection_mse = calc_uncertainty_regection_curve(errors, uncertainties)\n",
        "retention_mse = rejection_mse[::-1]\n",
        "\n",
        "retention_fractions = np.linspace(0,1,len(retention_mse))\n",
        "\n",
        "# plot\n",
        "plt.plot(retention_fractions, retention_mse)\n",
        "plt.ylabel('MSE')\n",
        "plt.xlabel(\"Retention Fraction\")\n",
        "plt.show()\n",
        "plt.clf()"
      ],
      "execution_count": null,
      "outputs": [
        {
          "data": {
            "image/png": "[encoded data removed]",
            "text/plain": [
              "<Figure size 432x288 with 1 Axes>"
            ]
          },
          "metadata": {
            "needs_background": "light"
          },
          "output_type": "display_data"
        },
        {
          "data": {
            "text/plain": [
              "<Figure size 432x288 with 0 Axes>"
            ]
          },
          "metadata": {},
          "output_type": "display_data"
        }
      ]
    },
    {
      "cell_type": "code",
      "metadata": {
        "colab": {
          "base_uri": "https://localhost:8080/",
          "height": 313
        },
        "id": "HhPO4J3kDE3W",
        "outputId": "a72273b4-4fbc-415b-820a-2c106c34fbe4"
      },
      "source": [
        "# F1-score retention curve\n",
        "from assessment import f_beta_metrics\n",
        "\n",
        "# Use an acceptable error threshold of 1 degree\n",
        "thresh = 1.0\n",
        "\n",
        "# Get all metrics\n",
        "f_auc, f95, retention_f1 = f_beta_metrics(errors, uncertainties, thresh, beta=1.0)\n",
        "print(\"F1 score at 95% retention: \", f95)\n",
        "\n",
        "retention_fractions = np.linspace(0,1,len(retention_f1))\n",
        "\n",
        "# plot\n",
        "plt.plot(retention_fractions, retention_f1)\n",
        "plt.ylabel('F1')\n",
        "plt.xlabel(\"Retention Fraction\")\n",
        "plt.show()\n",
        "plt.clf()"
      ],
      "execution_count": null,
      "outputs": [
        {
          "name": "stdout",
          "output_type": "stream",
          "text": [
            "F1 score at 95% retention:  0.4160329321181086\n"
          ]
        },
        {
          "data": {
            "image/png": "[encoded data removed]",
            "text/plain": [
              "<Figure size 432x288 with 1 Axes>"
            ]
          },
          "metadata": {
            "needs_background": "light"
          },
          "output_type": "display_data"
        },
        {
          "data": {
            "text/plain": [
              "<Figure size 432x288 with 0 Axes>"
            ]
          },
          "metadata": {},
          "output_type": "display_data"
        }
      ]
    },
    {
      "cell_type": "code",
      "metadata": {
        "colab": {
          "base_uri": "https://localhost:8080/",
          "height": 204
        },
        "id": "87Y0uKKwDPq5",
        "outputId": "ed5934cd-478e-4c8f-8893-a56177e8b702"
      },
      "source": [
        "# Prepare the ids\n",
        "ids = np.arange(1, len(df_dev_in) + 1)\n",
        "\n",
        "# Predictions are the mean predictions across the ensemble of models\n",
        "preds = np.mean(all_preds[:,:], axis=0)\n",
        "\n",
        "# The uncertainties have been calculated in the previous step\n",
        "\n",
        "# Store all the information to be submitted in a df\n",
        "df_submission = pd.DataFrame(data={\n",
        "        'ID' : ids,\n",
        "        'PRED' : preds,\n",
        "        'UNCERTAINTY' : uncertainties\n",
        "        })\n",
        "\n",
        "df_submission.head()"
      ],
      "execution_count": null,
      "outputs": [
        {
          "data": {
            "text/html": [
              "<div>\n",
              "<style scoped>\n",
              "    .dataframe tbody tr th:only-of-type {\n",
              "        vertical-align: middle;\n",
              "    }\n",
              "\n",
              "    .dataframe tbody tr th {\n",
              "        vertical-align: top;\n",
              "    }\n",
              "\n",
              "    .dataframe thead th {\n",
              "        text-align: right;\n",
              "    }\n",
              "</style>\n",
              "<table border=\"1\" class=\"dataframe\">\n",
              "  <thead>\n",
              "    <tr style=\"text-align: right;\">\n",
              "      <th></th>\n",
              "      <th>ID</th>\n",
              "      <th>PRED</th>\n",
              "      <th>UNCERTAINTY</th>\n",
              "    </tr>\n",
              "  </thead>\n",
              "  <tbody>\n",
              "    <tr>\n",
              "      <th>0</th>\n",
              "      <td>1</td>\n",
              "      <td>11.040325</td>\n",
              "      <td>0.057258</td>\n",
              "    </tr>\n",
              "    <tr>\n",
              "      <th>1</th>\n",
              "      <td>2</td>\n",
              "      <td>4.830107</td>\n",
              "      <td>0.018564</td>\n",
              "    </tr>\n",
              "    <tr>\n",
              "      <th>2</th>\n",
              "      <td>3</td>\n",
              "      <td>24.549261</td>\n",
              "      <td>0.107247</td>\n",
              "    </tr>\n",
              "    <tr>\n",
              "      <th>3</th>\n",
              "      <td>4</td>\n",
              "      <td>5.011156</td>\n",
              "      <td>0.104903</td>\n",
              "    </tr>\n",
              "    <tr>\n",
              "      <th>4</th>\n",
              "      <td>5</td>\n",
              "      <td>14.706642</td>\n",
              "      <td>0.024319</td>\n",
              "    </tr>\n",
              "  </tbody>\n",
              "</table>\n",
              "</div>"
            ],
            "text/plain": [
              "   ID       PRED  UNCERTAINTY\n",
              "0   1  11.040325     0.057258\n",
              "1   2   4.830107     0.018564\n",
              "2   3  24.549261     0.107247\n",
              "3   4   5.011156     0.104903\n",
              "4   5  14.706642     0.024319"
            ]
          },
          "execution_count": 19,
          "metadata": {},
          "output_type": "execute_result"
        }
      ]
    }
  ]
}
